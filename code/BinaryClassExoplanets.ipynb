{
 "cells": [
  {
   "cell_type": "markdown",
   "metadata": {},
   "source": [
    "# BinaryClassExoplanets\n",
    "***Matt Paterson, hello@hireMattPaterson.com***<br>\n",
    "This notebook takes a dataset from the Kepler Satelite, KOI cumulative dataset, from https://exoplanetarchive.ipac.caltech.edu/cgi-bin/TblView/nph-tblView?app=ExoTbls&config=cumulative <br>\n",
    "\n",
    "Here I do a rudimentary check on some exoplanet data, create a series of classification models (plus a Linear Regression for absolutely no reason other than seeing what it looks like when I do), and try to predict how many of the unclassified 'candidates' that have been identified in this Kepler Objects of Interest dataset are actually exoplanets.\n",
    "\n",
    "This notebook does the basic data cleaning to create a quick and dirty dataset and exports to 'dirty_kepler.csv'"
   ]
  },
  {
   "cell_type": "markdown",
   "metadata": {},
   "source": [
    "## Import libraries needed for EDA\n",
    "Run all EDA necessary for future models here, and export the dataframes to csv prior to running the models"
   ]
  },
  {
   "cell_type": "code",
   "execution_count": 1,
   "metadata": {},
   "outputs": [],
   "source": [
    "import numpy as np\n",
    "import pandas as pd\n",
    "import matplotlib.pyplot as plt\n",
    "import seaborn as sns\n",
    "\n",
    "# import lebowski, my custom Python Library for EDA\n",
    "import lebowski as dude\n",
    "# import autoreload in case I create new lebowski funcitons\n",
    "import autoreload        "
   ]
  },
  {
   "cell_type": "markdown",
   "metadata": {},
   "source": [
    "## Import the Kepler Exoplanet cumulative dataset"
   ]
  },
  {
   "cell_type": "code",
   "execution_count": 2,
   "metadata": {},
   "outputs": [],
   "source": [
    "# establish datapath variable\n",
    "path_to_home = '../'\n",
    "datapath = path_to_home + 'data/'"
   ]
  },
  {
   "cell_type": "code",
   "execution_count": 3,
   "metadata": {},
   "outputs": [
    {
     "data": {
      "text/html": [
       "<div>\n",
       "<style scoped>\n",
       "    .dataframe tbody tr th:only-of-type {\n",
       "        vertical-align: middle;\n",
       "    }\n",
       "\n",
       "    .dataframe tbody tr th {\n",
       "        vertical-align: top;\n",
       "    }\n",
       "\n",
       "    .dataframe thead th {\n",
       "        text-align: right;\n",
       "    }\n",
       "</style>\n",
       "<table border=\"1\" class=\"dataframe\">\n",
       "  <thead>\n",
       "    <tr style=\"text-align: right;\">\n",
       "      <th></th>\n",
       "      <th>kepid</th>\n",
       "      <th>kepoi_name</th>\n",
       "      <th>kepler_name</th>\n",
       "      <th>koi_disposition</th>\n",
       "      <th>koi_pdisposition</th>\n",
       "      <th>koi_score</th>\n",
       "      <th>koi_fpflag_nt</th>\n",
       "      <th>koi_fpflag_ss</th>\n",
       "      <th>koi_fpflag_co</th>\n",
       "      <th>koi_fpflag_ec</th>\n",
       "      <th>...</th>\n",
       "      <th>koi_steff_err2</th>\n",
       "      <th>koi_slogg</th>\n",
       "      <th>koi_slogg_err1</th>\n",
       "      <th>koi_slogg_err2</th>\n",
       "      <th>koi_srad</th>\n",
       "      <th>koi_srad_err1</th>\n",
       "      <th>koi_srad_err2</th>\n",
       "      <th>ra</th>\n",
       "      <th>dec</th>\n",
       "      <th>koi_kepmag</th>\n",
       "    </tr>\n",
       "  </thead>\n",
       "  <tbody>\n",
       "    <tr>\n",
       "      <th>0</th>\n",
       "      <td>12168280</td>\n",
       "      <td>K08297.01</td>\n",
       "      <td>NaN</td>\n",
       "      <td>CANDIDATE</td>\n",
       "      <td>CANDIDATE</td>\n",
       "      <td>0.141</td>\n",
       "      <td>0</td>\n",
       "      <td>0</td>\n",
       "      <td>0</td>\n",
       "      <td>0</td>\n",
       "      <td>...</td>\n",
       "      <td>-83.0</td>\n",
       "      <td>3.978</td>\n",
       "      <td>0.195</td>\n",
       "      <td>-0.120</td>\n",
       "      <td>2.057</td>\n",
       "      <td>0.365</td>\n",
       "      <td>-0.501</td>\n",
       "      <td>295.97794</td>\n",
       "      <td>50.771481</td>\n",
       "      <td>10.505</td>\n",
       "    </tr>\n",
       "    <tr>\n",
       "      <th>1</th>\n",
       "      <td>12117215</td>\n",
       "      <td>K08296.01</td>\n",
       "      <td>NaN</td>\n",
       "      <td>FALSE POSITIVE</td>\n",
       "      <td>FALSE POSITIVE</td>\n",
       "      <td>0.116</td>\n",
       "      <td>1</td>\n",
       "      <td>0</td>\n",
       "      <td>0</td>\n",
       "      <td>0</td>\n",
       "      <td>...</td>\n",
       "      <td>-152.0</td>\n",
       "      <td>4.563</td>\n",
       "      <td>0.044</td>\n",
       "      <td>-0.176</td>\n",
       "      <td>0.828</td>\n",
       "      <td>0.216</td>\n",
       "      <td>-0.072</td>\n",
       "      <td>294.92795</td>\n",
       "      <td>50.662369</td>\n",
       "      <td>15.111</td>\n",
       "    </tr>\n",
       "    <tr>\n",
       "      <th>2</th>\n",
       "      <td>11923074</td>\n",
       "      <td>K08295.01</td>\n",
       "      <td>NaN</td>\n",
       "      <td>FALSE POSITIVE</td>\n",
       "      <td>FALSE POSITIVE</td>\n",
       "      <td>0.000</td>\n",
       "      <td>0</td>\n",
       "      <td>0</td>\n",
       "      <td>0</td>\n",
       "      <td>1</td>\n",
       "      <td>...</td>\n",
       "      <td>-157.0</td>\n",
       "      <td>4.561</td>\n",
       "      <td>0.033</td>\n",
       "      <td>-0.176</td>\n",
       "      <td>0.833</td>\n",
       "      <td>0.227</td>\n",
       "      <td>-0.071</td>\n",
       "      <td>296.14072</td>\n",
       "      <td>50.279949</td>\n",
       "      <td>14.723</td>\n",
       "    </tr>\n",
       "    <tr>\n",
       "      <th>3</th>\n",
       "      <td>11867733</td>\n",
       "      <td>K08294.01</td>\n",
       "      <td>NaN</td>\n",
       "      <td>FALSE POSITIVE</td>\n",
       "      <td>FALSE POSITIVE</td>\n",
       "      <td>0.000</td>\n",
       "      <td>0</td>\n",
       "      <td>1</td>\n",
       "      <td>0</td>\n",
       "      <td>0</td>\n",
       "      <td>...</td>\n",
       "      <td>-193.0</td>\n",
       "      <td>4.445</td>\n",
       "      <td>0.067</td>\n",
       "      <td>-0.202</td>\n",
       "      <td>0.994</td>\n",
       "      <td>0.291</td>\n",
       "      <td>-0.125</td>\n",
       "      <td>293.77362</td>\n",
       "      <td>50.124470</td>\n",
       "      <td>14.391</td>\n",
       "    </tr>\n",
       "    <tr>\n",
       "      <th>4</th>\n",
       "      <td>10585887</td>\n",
       "      <td>K08293.01</td>\n",
       "      <td>NaN</td>\n",
       "      <td>FALSE POSITIVE</td>\n",
       "      <td>FALSE POSITIVE</td>\n",
       "      <td>0.190</td>\n",
       "      <td>1</td>\n",
       "      <td>0</td>\n",
       "      <td>0</td>\n",
       "      <td>0</td>\n",
       "      <td>...</td>\n",
       "      <td>-209.0</td>\n",
       "      <td>4.463</td>\n",
       "      <td>0.070</td>\n",
       "      <td>-0.210</td>\n",
       "      <td>0.970</td>\n",
       "      <td>0.306</td>\n",
       "      <td>-0.123</td>\n",
       "      <td>285.24338</td>\n",
       "      <td>47.812592</td>\n",
       "      <td>14.872</td>\n",
       "    </tr>\n",
       "  </tbody>\n",
       "</table>\n",
       "<p>5 rows × 49 columns</p>\n",
       "</div>"
      ],
      "text/plain": [
       "      kepid kepoi_name kepler_name koi_disposition koi_pdisposition  \\\n",
       "0  12168280  K08297.01         NaN       CANDIDATE        CANDIDATE   \n",
       "1  12117215  K08296.01         NaN  FALSE POSITIVE   FALSE POSITIVE   \n",
       "2  11923074  K08295.01         NaN  FALSE POSITIVE   FALSE POSITIVE   \n",
       "3  11867733  K08294.01         NaN  FALSE POSITIVE   FALSE POSITIVE   \n",
       "4  10585887  K08293.01         NaN  FALSE POSITIVE   FALSE POSITIVE   \n",
       "\n",
       "   koi_score  koi_fpflag_nt  koi_fpflag_ss  koi_fpflag_co  koi_fpflag_ec  ...  \\\n",
       "0      0.141              0              0              0              0  ...   \n",
       "1      0.116              1              0              0              0  ...   \n",
       "2      0.000              0              0              0              1  ...   \n",
       "3      0.000              0              1              0              0  ...   \n",
       "4      0.190              1              0              0              0  ...   \n",
       "\n",
       "   koi_steff_err2  koi_slogg  koi_slogg_err1  koi_slogg_err2  koi_srad  \\\n",
       "0           -83.0      3.978           0.195          -0.120     2.057   \n",
       "1          -152.0      4.563           0.044          -0.176     0.828   \n",
       "2          -157.0      4.561           0.033          -0.176     0.833   \n",
       "3          -193.0      4.445           0.067          -0.202     0.994   \n",
       "4          -209.0      4.463           0.070          -0.210     0.970   \n",
       "\n",
       "   koi_srad_err1  koi_srad_err2         ra        dec  koi_kepmag  \n",
       "0          0.365         -0.501  295.97794  50.771481      10.505  \n",
       "1          0.216         -0.072  294.92795  50.662369      15.111  \n",
       "2          0.227         -0.071  296.14072  50.279949      14.723  \n",
       "3          0.291         -0.125  293.77362  50.124470      14.391  \n",
       "4          0.306         -0.123  285.24338  47.812592      14.872  \n",
       "\n",
       "[5 rows x 49 columns]"
      ]
     },
     "execution_count": 3,
     "metadata": {},
     "output_type": "execute_result"
    }
   ],
   "source": [
    "filename = 'kepler_cumulative_exoplanets.csv'\n",
    "kep = pd.read_csv(datapath + filename)\n",
    "kep.head()"
   ]
  },
  {
   "cell_type": "code",
   "execution_count": 4,
   "metadata": {},
   "outputs": [
    {
     "name": "stdout",
     "output_type": "stream",
     "text": [
      "<class 'pandas.core.frame.DataFrame'>\n",
      "RangeIndex: 9564 entries, 0 to 9563\n",
      "Data columns (total 49 columns):\n",
      " #   Column             Non-Null Count  Dtype  \n",
      "---  ------             --------------  -----  \n",
      " 0   kepid              9564 non-null   int64  \n",
      " 1   kepoi_name         9564 non-null   object \n",
      " 2   kepler_name        2308 non-null   object \n",
      " 3   koi_disposition    9564 non-null   object \n",
      " 4   koi_pdisposition   9564 non-null   object \n",
      " 5   koi_score          8054 non-null   float64\n",
      " 6   koi_fpflag_nt      9564 non-null   int64  \n",
      " 7   koi_fpflag_ss      9564 non-null   int64  \n",
      " 8   koi_fpflag_co      9564 non-null   int64  \n",
      " 9   koi_fpflag_ec      9564 non-null   int64  \n",
      " 10  koi_period         9564 non-null   float64\n",
      " 11  koi_period_err1    9110 non-null   float64\n",
      " 12  koi_period_err2    9110 non-null   float64\n",
      " 13  koi_time0bk        9564 non-null   float64\n",
      " 14  koi_time0bk_err1   9110 non-null   float64\n",
      " 15  koi_time0bk_err2   9110 non-null   float64\n",
      " 16  koi_impact         9201 non-null   float64\n",
      " 17  koi_impact_err1    9110 non-null   float64\n",
      " 18  koi_impact_err2    9110 non-null   float64\n",
      " 19  koi_duration       9564 non-null   float64\n",
      " 20  koi_duration_err1  9110 non-null   float64\n",
      " 21  koi_duration_err2  9110 non-null   float64\n",
      " 22  koi_depth          9201 non-null   float64\n",
      " 23  koi_depth_err1     9110 non-null   float64\n",
      " 24  koi_depth_err2     9110 non-null   float64\n",
      " 25  koi_prad           9201 non-null   float64\n",
      " 26  koi_prad_err1      9201 non-null   float64\n",
      " 27  koi_prad_err2      9201 non-null   float64\n",
      " 28  koi_teq            9201 non-null   float64\n",
      " 29  koi_teq_err1       0 non-null      float64\n",
      " 30  koi_teq_err2       0 non-null      float64\n",
      " 31  koi_insol          9243 non-null   float64\n",
      " 32  koi_insol_err1     9243 non-null   float64\n",
      " 33  koi_insol_err2     9243 non-null   float64\n",
      " 34  koi_model_snr      9201 non-null   float64\n",
      " 35  koi_tce_plnt_num   9218 non-null   float64\n",
      " 36  koi_tce_delivname  9218 non-null   object \n",
      " 37  koi_steff          9201 non-null   float64\n",
      " 38  koi_steff_err1     9096 non-null   float64\n",
      " 39  koi_steff_err2     9081 non-null   float64\n",
      " 40  koi_slogg          9201 non-null   float64\n",
      " 41  koi_slogg_err1     9096 non-null   float64\n",
      " 42  koi_slogg_err2     9096 non-null   float64\n",
      " 43  koi_srad           9201 non-null   float64\n",
      " 44  koi_srad_err1      9096 non-null   float64\n",
      " 45  koi_srad_err2      9096 non-null   float64\n",
      " 46  ra                 9564 non-null   float64\n",
      " 47  dec                9564 non-null   float64\n",
      " 48  koi_kepmag         9563 non-null   float64\n",
      "dtypes: float64(39), int64(5), object(5)\n",
      "memory usage: 3.6+ MB\n"
     ]
    }
   ],
   "source": [
    "kep.info()"
   ]
  },
  {
   "cell_type": "markdown",
   "metadata": {},
   "source": [
    "## Create a quick and dirty model, let's get rolling"
   ]
  },
  {
   "cell_type": "code",
   "execution_count": 5,
   "metadata": {},
   "outputs": [
    {
     "data": {
      "text/plain": [
       "kepid                   0\n",
       "kepoi_name              0\n",
       "kepler_name          7256\n",
       "koi_disposition         0\n",
       "koi_pdisposition        0\n",
       "koi_score            1510\n",
       "koi_fpflag_nt           0\n",
       "koi_fpflag_ss           0\n",
       "koi_fpflag_co           0\n",
       "koi_fpflag_ec           0\n",
       "koi_period              0\n",
       "koi_period_err1       454\n",
       "koi_period_err2       454\n",
       "koi_time0bk             0\n",
       "koi_time0bk_err1      454\n",
       "koi_time0bk_err2      454\n",
       "koi_impact            363\n",
       "koi_impact_err1       454\n",
       "koi_impact_err2       454\n",
       "koi_duration            0\n",
       "koi_duration_err1     454\n",
       "koi_duration_err2     454\n",
       "koi_depth             363\n",
       "koi_depth_err1        454\n",
       "koi_depth_err2        454\n",
       "koi_prad              363\n",
       "koi_prad_err1         363\n",
       "koi_prad_err2         363\n",
       "koi_teq               363\n",
       "koi_teq_err1         9564\n",
       "koi_teq_err2         9564\n",
       "koi_insol             321\n",
       "koi_insol_err1        321\n",
       "koi_insol_err2        321\n",
       "koi_model_snr         363\n",
       "koi_tce_plnt_num      346\n",
       "koi_tce_delivname     346\n",
       "koi_steff             363\n",
       "koi_steff_err1        468\n",
       "koi_steff_err2        483\n",
       "koi_slogg             363\n",
       "koi_slogg_err1        468\n",
       "koi_slogg_err2        468\n",
       "koi_srad              363\n",
       "koi_srad_err1         468\n",
       "koi_srad_err2         468\n",
       "ra                      0\n",
       "dec                     0\n",
       "koi_kepmag              1\n",
       "dtype: int64"
      ]
     },
     "execution_count": 5,
     "metadata": {},
     "output_type": "execute_result"
    }
   ],
   "source": [
    "kep.isna().sum()"
   ]
  },
  {
   "cell_type": "markdown",
   "metadata": {},
   "source": [
    "## Impute, compute, and refute\n",
    "Since every row in this table has a null value somewhere, we cannot simply drop the null rows. We'll start by dropping columns such as koi_teq_err1 and koi_teq_err2 that have 100% null values"
   ]
  },
  {
   "cell_type": "code",
   "execution_count": 6,
   "metadata": {},
   "outputs": [],
   "source": [
    "df = kep.drop(columns=['koi_teq_err1', 'koi_teq_err2'])"
   ]
  },
  {
   "cell_type": "code",
   "execution_count": 7,
   "metadata": {},
   "outputs": [
    {
     "data": {
      "text/plain": [
       "(9564, 47)"
      ]
     },
     "execution_count": 7,
     "metadata": {},
     "output_type": "execute_result"
    }
   ],
   "source": [
    "df.shape"
   ]
  },
  {
   "cell_type": "markdown",
   "metadata": {},
   "source": [
    "The kepler_name column is only significant on certain rows. We can probably eliminate this too as confirmed KOI are shown in what will be our target column"
   ]
  },
  {
   "cell_type": "code",
   "execution_count": 8,
   "metadata": {},
   "outputs": [
    {
     "data": {
      "text/plain": [
       "0                 NaN\n",
       "1                 NaN\n",
       "2                 NaN\n",
       "3                 NaN\n",
       "4                 NaN\n",
       "            ...      \n",
       "9559              NaN\n",
       "9560    Kepler-1658 b\n",
       "9561       Kepler-3 b\n",
       "9562       Kepler-2 b\n",
       "9563       Kepler-1 b\n",
       "Name: kepler_name, Length: 9564, dtype: object"
      ]
     },
     "execution_count": 8,
     "metadata": {},
     "output_type": "execute_result"
    }
   ],
   "source": [
    "df.kepler_name.where(df['kepler_name'].notna())"
   ]
  },
  {
   "cell_type": "code",
   "execution_count": 9,
   "metadata": {},
   "outputs": [
    {
     "data": {
      "text/plain": [
       "(9564, 46)"
      ]
     },
     "execution_count": 9,
     "metadata": {},
     "output_type": "execute_result"
    }
   ],
   "source": [
    "df = df.drop(columns='kepler_name')\n",
    "df.shape"
   ]
  },
  {
   "cell_type": "code",
   "execution_count": 10,
   "metadata": {},
   "outputs": [
    {
     "data": {
      "text/plain": [
       "(7803, 46)"
      ]
     },
     "execution_count": 10,
     "metadata": {},
     "output_type": "execute_result"
    }
   ],
   "source": [
    "df_2 = df.dropna()\n",
    "df_2.shape"
   ]
  },
  {
   "cell_type": "markdown",
   "metadata": {},
   "source": [
    "7800 rows is enough to create a model from, but let's take a quick glance at what data we are omitting:"
   ]
  },
  {
   "cell_type": "code",
   "execution_count": 11,
   "metadata": {},
   "outputs": [
    {
     "data": {
      "text/plain": [
       "kepid                   0\n",
       "kepoi_name              0\n",
       "koi_disposition         0\n",
       "koi_pdisposition        0\n",
       "koi_score            1510\n",
       "koi_fpflag_nt           0\n",
       "koi_fpflag_ss           0\n",
       "koi_fpflag_co           0\n",
       "koi_fpflag_ec           0\n",
       "koi_period              0\n",
       "koi_period_err1       454\n",
       "koi_period_err2       454\n",
       "koi_time0bk             0\n",
       "koi_time0bk_err1      454\n",
       "koi_time0bk_err2      454\n",
       "koi_impact            363\n",
       "koi_impact_err1       454\n",
       "koi_impact_err2       454\n",
       "koi_duration            0\n",
       "koi_duration_err1     454\n",
       "koi_duration_err2     454\n",
       "koi_depth             363\n",
       "koi_depth_err1        454\n",
       "koi_depth_err2        454\n",
       "koi_prad              363\n",
       "koi_prad_err1         363\n",
       "koi_prad_err2         363\n",
       "koi_teq               363\n",
       "koi_insol             321\n",
       "koi_insol_err1        321\n",
       "koi_insol_err2        321\n",
       "koi_model_snr         363\n",
       "koi_tce_plnt_num      346\n",
       "koi_tce_delivname     346\n",
       "koi_steff             363\n",
       "koi_steff_err1        468\n",
       "koi_steff_err2        483\n",
       "koi_slogg             363\n",
       "koi_slogg_err1        468\n",
       "koi_slogg_err2        468\n",
       "koi_srad              363\n",
       "koi_srad_err1         468\n",
       "koi_srad_err2         468\n",
       "ra                      0\n",
       "dec                     0\n",
       "koi_kepmag              1\n",
       "dtype: int64"
      ]
     },
     "execution_count": 11,
     "metadata": {},
     "output_type": "execute_result"
    }
   ],
   "source": [
    "df.isna().sum()"
   ]
  },
  {
   "cell_type": "markdown",
   "metadata": {},
   "source": [
    "We can eliminate the koi_score. This is a confidence score computed by using a Monte Carlo technique and assigning a high value (between 0 and 1) for high confidence that a koi is an exoplanet, and low confidence where the Monte Carlo is not confident that this is actually an exoplanet. This score itself may pollute our model, or otherwise influence its prediction. Of course, it is likely a good indicator since the Monte Carlo model is more powerful than a simple logistic regression, but I digress."
   ]
  },
  {
   "cell_type": "code",
   "execution_count": 12,
   "metadata": {},
   "outputs": [],
   "source": [
    "df_2 = df.drop(columns='koi_score')"
   ]
  },
  {
   "cell_type": "code",
   "execution_count": 13,
   "metadata": {},
   "outputs": [
    {
     "data": {
      "text/plain": [
       "(9564, 45)"
      ]
     },
     "execution_count": 13,
     "metadata": {},
     "output_type": "execute_result"
    }
   ],
   "source": [
    "df_2.shape"
   ]
  },
  {
   "cell_type": "code",
   "execution_count": 14,
   "metadata": {},
   "outputs": [
    {
     "data": {
      "text/plain": [
       "(8744, 45)"
      ]
     },
     "execution_count": 14,
     "metadata": {},
     "output_type": "execute_result"
    }
   ],
   "source": [
    "df_2 = df_2.dropna()\n",
    "df_2.shape"
   ]
  },
  {
   "cell_type": "code",
   "execution_count": 15,
   "metadata": {},
   "outputs": [
    {
     "data": {
      "text/plain": [
       "kepid                  int64\n",
       "kepoi_name            object\n",
       "koi_disposition       object\n",
       "koi_pdisposition      object\n",
       "koi_fpflag_nt          int64\n",
       "koi_fpflag_ss          int64\n",
       "koi_fpflag_co          int64\n",
       "koi_fpflag_ec          int64\n",
       "koi_period           float64\n",
       "koi_period_err1      float64\n",
       "koi_period_err2      float64\n",
       "koi_time0bk          float64\n",
       "koi_time0bk_err1     float64\n",
       "koi_time0bk_err2     float64\n",
       "koi_impact           float64\n",
       "koi_impact_err1      float64\n",
       "koi_impact_err2      float64\n",
       "koi_duration         float64\n",
       "koi_duration_err1    float64\n",
       "koi_duration_err2    float64\n",
       "koi_depth            float64\n",
       "koi_depth_err1       float64\n",
       "koi_depth_err2       float64\n",
       "koi_prad             float64\n",
       "koi_prad_err1        float64\n",
       "koi_prad_err2        float64\n",
       "koi_teq              float64\n",
       "koi_insol            float64\n",
       "koi_insol_err1       float64\n",
       "koi_insol_err2       float64\n",
       "koi_model_snr        float64\n",
       "koi_tce_plnt_num     float64\n",
       "koi_tce_delivname     object\n",
       "koi_steff            float64\n",
       "koi_steff_err1       float64\n",
       "koi_steff_err2       float64\n",
       "koi_slogg            float64\n",
       "koi_slogg_err1       float64\n",
       "koi_slogg_err2       float64\n",
       "koi_srad             float64\n",
       "koi_srad_err1        float64\n",
       "koi_srad_err2        float64\n",
       "ra                   float64\n",
       "dec                  float64\n",
       "koi_kepmag           float64\n",
       "dtype: object"
      ]
     },
     "execution_count": 15,
     "metadata": {},
     "output_type": "execute_result"
    }
   ],
   "source": [
    "df_2.dtypes"
   ]
  },
  {
   "cell_type": "code",
   "execution_count": 16,
   "metadata": {},
   "outputs": [
    {
     "data": {
      "text/html": [
       "<div>\n",
       "<style scoped>\n",
       "    .dataframe tbody tr th:only-of-type {\n",
       "        vertical-align: middle;\n",
       "    }\n",
       "\n",
       "    .dataframe tbody tr th {\n",
       "        vertical-align: top;\n",
       "    }\n",
       "\n",
       "    .dataframe thead th {\n",
       "        text-align: right;\n",
       "    }\n",
       "</style>\n",
       "<table border=\"1\" class=\"dataframe\">\n",
       "  <thead>\n",
       "    <tr style=\"text-align: right;\">\n",
       "      <th></th>\n",
       "      <th>kepid</th>\n",
       "      <th>kepoi_name</th>\n",
       "      <th>koi_disposition</th>\n",
       "      <th>koi_pdisposition</th>\n",
       "      <th>koi_fpflag_nt</th>\n",
       "      <th>koi_fpflag_ss</th>\n",
       "      <th>koi_fpflag_co</th>\n",
       "      <th>koi_fpflag_ec</th>\n",
       "      <th>koi_period</th>\n",
       "      <th>koi_period_err1</th>\n",
       "      <th>...</th>\n",
       "      <th>koi_steff_err2</th>\n",
       "      <th>koi_slogg</th>\n",
       "      <th>koi_slogg_err1</th>\n",
       "      <th>koi_slogg_err2</th>\n",
       "      <th>koi_srad</th>\n",
       "      <th>koi_srad_err1</th>\n",
       "      <th>koi_srad_err2</th>\n",
       "      <th>ra</th>\n",
       "      <th>dec</th>\n",
       "      <th>koi_kepmag</th>\n",
       "    </tr>\n",
       "  </thead>\n",
       "  <tbody>\n",
       "    <tr>\n",
       "      <th>0</th>\n",
       "      <td>12168280</td>\n",
       "      <td>K08297.01</td>\n",
       "      <td>CANDIDATE</td>\n",
       "      <td>CANDIDATE</td>\n",
       "      <td>0</td>\n",
       "      <td>0</td>\n",
       "      <td>0</td>\n",
       "      <td>0</td>\n",
       "      <td>229.957537</td>\n",
       "      <td>0.006730</td>\n",
       "      <td>...</td>\n",
       "      <td>-83.0</td>\n",
       "      <td>3.978</td>\n",
       "      <td>0.195</td>\n",
       "      <td>-0.120</td>\n",
       "      <td>2.057</td>\n",
       "      <td>0.365</td>\n",
       "      <td>-0.501</td>\n",
       "      <td>295.97794</td>\n",
       "      <td>50.771481</td>\n",
       "      <td>10.505</td>\n",
       "    </tr>\n",
       "    <tr>\n",
       "      <th>2</th>\n",
       "      <td>11923074</td>\n",
       "      <td>K08295.01</td>\n",
       "      <td>FALSE POSITIVE</td>\n",
       "      <td>FALSE POSITIVE</td>\n",
       "      <td>0</td>\n",
       "      <td>0</td>\n",
       "      <td>0</td>\n",
       "      <td>1</td>\n",
       "      <td>1.756471</td>\n",
       "      <td>0.000015</td>\n",
       "      <td>...</td>\n",
       "      <td>-157.0</td>\n",
       "      <td>4.561</td>\n",
       "      <td>0.033</td>\n",
       "      <td>-0.176</td>\n",
       "      <td>0.833</td>\n",
       "      <td>0.227</td>\n",
       "      <td>-0.071</td>\n",
       "      <td>296.14072</td>\n",
       "      <td>50.279949</td>\n",
       "      <td>14.723</td>\n",
       "    </tr>\n",
       "    <tr>\n",
       "      <th>3</th>\n",
       "      <td>11867733</td>\n",
       "      <td>K08294.01</td>\n",
       "      <td>FALSE POSITIVE</td>\n",
       "      <td>FALSE POSITIVE</td>\n",
       "      <td>0</td>\n",
       "      <td>1</td>\n",
       "      <td>0</td>\n",
       "      <td>0</td>\n",
       "      <td>384.356448</td>\n",
       "      <td>0.003680</td>\n",
       "      <td>...</td>\n",
       "      <td>-193.0</td>\n",
       "      <td>4.445</td>\n",
       "      <td>0.067</td>\n",
       "      <td>-0.202</td>\n",
       "      <td>0.994</td>\n",
       "      <td>0.291</td>\n",
       "      <td>-0.125</td>\n",
       "      <td>293.77362</td>\n",
       "      <td>50.124470</td>\n",
       "      <td>14.391</td>\n",
       "    </tr>\n",
       "    <tr>\n",
       "      <th>4</th>\n",
       "      <td>10585887</td>\n",
       "      <td>K08293.01</td>\n",
       "      <td>FALSE POSITIVE</td>\n",
       "      <td>FALSE POSITIVE</td>\n",
       "      <td>1</td>\n",
       "      <td>0</td>\n",
       "      <td>0</td>\n",
       "      <td>0</td>\n",
       "      <td>378.654840</td>\n",
       "      <td>0.022800</td>\n",
       "      <td>...</td>\n",
       "      <td>-209.0</td>\n",
       "      <td>4.463</td>\n",
       "      <td>0.070</td>\n",
       "      <td>-0.210</td>\n",
       "      <td>0.970</td>\n",
       "      <td>0.306</td>\n",
       "      <td>-0.123</td>\n",
       "      <td>285.24338</td>\n",
       "      <td>47.812592</td>\n",
       "      <td>14.872</td>\n",
       "    </tr>\n",
       "    <tr>\n",
       "      <th>5</th>\n",
       "      <td>10532751</td>\n",
       "      <td>K08292.01</td>\n",
       "      <td>FALSE POSITIVE</td>\n",
       "      <td>FALSE POSITIVE</td>\n",
       "      <td>1</td>\n",
       "      <td>0</td>\n",
       "      <td>0</td>\n",
       "      <td>0</td>\n",
       "      <td>367.761848</td>\n",
       "      <td>0.006750</td>\n",
       "      <td>...</td>\n",
       "      <td>-295.0</td>\n",
       "      <td>2.897</td>\n",
       "      <td>0.045</td>\n",
       "      <td>-0.014</td>\n",
       "      <td>9.888</td>\n",
       "      <td>0.257</td>\n",
       "      <td>-2.058</td>\n",
       "      <td>290.87155</td>\n",
       "      <td>47.753368</td>\n",
       "      <td>10.736</td>\n",
       "    </tr>\n",
       "  </tbody>\n",
       "</table>\n",
       "<p>5 rows × 45 columns</p>\n",
       "</div>"
      ],
      "text/plain": [
       "      kepid kepoi_name koi_disposition koi_pdisposition  koi_fpflag_nt  \\\n",
       "0  12168280  K08297.01       CANDIDATE        CANDIDATE              0   \n",
       "2  11923074  K08295.01  FALSE POSITIVE   FALSE POSITIVE              0   \n",
       "3  11867733  K08294.01  FALSE POSITIVE   FALSE POSITIVE              0   \n",
       "4  10585887  K08293.01  FALSE POSITIVE   FALSE POSITIVE              1   \n",
       "5  10532751  K08292.01  FALSE POSITIVE   FALSE POSITIVE              1   \n",
       "\n",
       "   koi_fpflag_ss  koi_fpflag_co  koi_fpflag_ec  koi_period  koi_period_err1  \\\n",
       "0              0              0              0  229.957537         0.006730   \n",
       "2              0              0              1    1.756471         0.000015   \n",
       "3              1              0              0  384.356448         0.003680   \n",
       "4              0              0              0  378.654840         0.022800   \n",
       "5              0              0              0  367.761848         0.006750   \n",
       "\n",
       "   ...  koi_steff_err2  koi_slogg  koi_slogg_err1  koi_slogg_err2  koi_srad  \\\n",
       "0  ...           -83.0      3.978           0.195          -0.120     2.057   \n",
       "2  ...          -157.0      4.561           0.033          -0.176     0.833   \n",
       "3  ...          -193.0      4.445           0.067          -0.202     0.994   \n",
       "4  ...          -209.0      4.463           0.070          -0.210     0.970   \n",
       "5  ...          -295.0      2.897           0.045          -0.014     9.888   \n",
       "\n",
       "   koi_srad_err1  koi_srad_err2         ra        dec  koi_kepmag  \n",
       "0          0.365         -0.501  295.97794  50.771481      10.505  \n",
       "2          0.227         -0.071  296.14072  50.279949      14.723  \n",
       "3          0.291         -0.125  293.77362  50.124470      14.391  \n",
       "4          0.306         -0.123  285.24338  47.812592      14.872  \n",
       "5          0.257         -2.058  290.87155  47.753368      10.736  \n",
       "\n",
       "[5 rows x 45 columns]"
      ]
     },
     "execution_count": 16,
     "metadata": {},
     "output_type": "execute_result"
    }
   ],
   "source": [
    "df_2.head()"
   ]
  },
  {
   "cell_type": "markdown",
   "metadata": {},
   "source": [
    "## Manage the datatypes, lose the non-nums\n",
    "We cannot use scikit-learn or tensorflow with non-numeric data or null values. We've eliminated the nulls, now we'll look at the non-numeric columns and use one-hot-encoding or other methods to convert any non-numeric columns into proper columns."
   ]
  },
  {
   "cell_type": "code",
   "execution_count": 17,
   "metadata": {},
   "outputs": [
    {
     "data": {
      "text/plain": [
       "kepid                        7025846\n",
       "kepoi_name                 K00565.01\n",
       "koi_disposition       FALSE POSITIVE\n",
       "koi_pdisposition      FALSE POSITIVE\n",
       "koi_fpflag_nt                      0\n",
       "koi_fpflag_ss                      0\n",
       "koi_fpflag_co                      1\n",
       "koi_fpflag_ec                      1\n",
       "koi_period                   2.34052\n",
       "koi_period_err1              8.6e-06\n",
       "koi_period_err2             -8.6e-06\n",
       "koi_time0bk                  170.198\n",
       "koi_time0bk_err1              0.0026\n",
       "koi_time0bk_err2             -0.0026\n",
       "koi_impact                     0.725\n",
       "koi_impact_err1                0.009\n",
       "koi_impact_err2               -0.523\n",
       "koi_duration                   3.156\n",
       "koi_duration_err1              0.103\n",
       "koi_duration_err2             -0.103\n",
       "koi_depth                        175\n",
       "koi_depth_err1                   5.6\n",
       "koi_depth_err2                  -5.6\n",
       "koi_prad                         1.4\n",
       "koi_prad_err1                   0.35\n",
       "koi_prad_err2                  -0.21\n",
       "koi_teq                         1456\n",
       "koi_insol                     1063.8\n",
       "koi_insol_err1                799.05\n",
       "koi_insol_err2               -381.17\n",
       "koi_model_snr                   37.2\n",
       "koi_tce_plnt_num                   1\n",
       "koi_tce_delivname    q1_q17_dr25_tce\n",
       "koi_steff                       6056\n",
       "koi_steff_err1                   163\n",
       "koi_steff_err2                  -181\n",
       "koi_slogg                      4.397\n",
       "koi_slogg_err1                 0.139\n",
       "koi_slogg_err2                -0.186\n",
       "koi_srad                       0.981\n",
       "koi_srad_err1                   0.25\n",
       "koi_srad_err2                 -0.146\n",
       "ra                           289.359\n",
       "dec                          42.5262\n",
       "koi_kepmag                      14.3\n",
       "Name: 8784, dtype: object"
      ]
     },
     "execution_count": 17,
     "metadata": {},
     "output_type": "execute_result"
    }
   ],
   "source": [
    "df_2.iloc[8000]"
   ]
  },
  {
   "cell_type": "code",
   "execution_count": 18,
   "metadata": {},
   "outputs": [
    {
     "data": {
      "text/html": [
       "<div>\n",
       "<style scoped>\n",
       "    .dataframe tbody tr th:only-of-type {\n",
       "        vertical-align: middle;\n",
       "    }\n",
       "\n",
       "    .dataframe tbody tr th {\n",
       "        vertical-align: top;\n",
       "    }\n",
       "\n",
       "    .dataframe thead th {\n",
       "        text-align: right;\n",
       "    }\n",
       "</style>\n",
       "<table border=\"1\" class=\"dataframe\">\n",
       "  <thead>\n",
       "    <tr style=\"text-align: right;\">\n",
       "      <th></th>\n",
       "      <th>kepid</th>\n",
       "      <th>kepoi_name</th>\n",
       "      <th>koi_disposition</th>\n",
       "      <th>koi_pdisposition</th>\n",
       "      <th>koi_fpflag_nt</th>\n",
       "      <th>koi_fpflag_ss</th>\n",
       "      <th>koi_fpflag_co</th>\n",
       "      <th>koi_fpflag_ec</th>\n",
       "      <th>koi_period</th>\n",
       "      <th>koi_period_err1</th>\n",
       "      <th>...</th>\n",
       "      <th>koi_steff_err2</th>\n",
       "      <th>koi_slogg</th>\n",
       "      <th>koi_slogg_err1</th>\n",
       "      <th>koi_slogg_err2</th>\n",
       "      <th>koi_srad</th>\n",
       "      <th>koi_srad_err1</th>\n",
       "      <th>koi_srad_err2</th>\n",
       "      <th>ra</th>\n",
       "      <th>dec</th>\n",
       "      <th>koi_kepmag</th>\n",
       "    </tr>\n",
       "  </thead>\n",
       "  <tbody>\n",
       "    <tr>\n",
       "      <th>8784</th>\n",
       "      <td>7025846</td>\n",
       "      <td>K00565.01</td>\n",
       "      <td>FALSE POSITIVE</td>\n",
       "      <td>FALSE POSITIVE</td>\n",
       "      <td>0</td>\n",
       "      <td>0</td>\n",
       "      <td>1</td>\n",
       "      <td>1</td>\n",
       "      <td>2.340523</td>\n",
       "      <td>0.000009</td>\n",
       "      <td>...</td>\n",
       "      <td>-181.0</td>\n",
       "      <td>4.397</td>\n",
       "      <td>0.139</td>\n",
       "      <td>-0.186</td>\n",
       "      <td>0.981</td>\n",
       "      <td>0.25</td>\n",
       "      <td>-0.146</td>\n",
       "      <td>289.35855</td>\n",
       "      <td>42.526192</td>\n",
       "      <td>14.3</td>\n",
       "    </tr>\n",
       "  </tbody>\n",
       "</table>\n",
       "<p>1 rows × 45 columns</p>\n",
       "</div>"
      ],
      "text/plain": [
       "        kepid kepoi_name koi_disposition koi_pdisposition  koi_fpflag_nt  \\\n",
       "8784  7025846  K00565.01  FALSE POSITIVE   FALSE POSITIVE              0   \n",
       "\n",
       "      koi_fpflag_ss  koi_fpflag_co  koi_fpflag_ec  koi_period  \\\n",
       "8784              0              1              1    2.340523   \n",
       "\n",
       "      koi_period_err1  ...  koi_steff_err2  koi_slogg  koi_slogg_err1  \\\n",
       "8784         0.000009  ...          -181.0      4.397           0.139   \n",
       "\n",
       "      koi_slogg_err2  koi_srad  koi_srad_err1  koi_srad_err2         ra  \\\n",
       "8784          -0.186     0.981           0.25         -0.146  289.35855   \n",
       "\n",
       "            dec  koi_kepmag  \n",
       "8784  42.526192        14.3  \n",
       "\n",
       "[1 rows x 45 columns]"
      ]
     },
     "execution_count": 18,
     "metadata": {},
     "output_type": "execute_result"
    }
   ],
   "source": [
    "# Are kepid and kepoi_name just two different unique identifiers?\n",
    "# The data dictionary is vague so let's check a few\n",
    "\n",
    "#df_2[df_2['kepoi_name']=='K08295.01']\n",
    "#df_2[df_2['kepoi_name']=='K08292.01']\n",
    "#df_2[df_2['kepoi_name']=='K02361.01']\n",
    "#df_2[df_2['kepoi_name']=='K03601.01']\n",
    "df_2[df_2['kepoi_name']=='K00565.01']"
   ]
  },
  {
   "cell_type": "code",
   "execution_count": 19,
   "metadata": {},
   "outputs": [],
   "source": [
    "# Yes it looks like we can drop that col\n",
    "df_2.drop(columns='kepoi_name', inplace=True)"
   ]
  },
  {
   "cell_type": "markdown",
   "metadata": {},
   "source": [
    "How often are the koi_disposition and the koi_pdisposition different?"
   ]
  },
  {
   "cell_type": "code",
   "execution_count": 20,
   "metadata": {},
   "outputs": [
    {
     "data": {
      "text/plain": [
       "(6458, 44)"
      ]
     },
     "execution_count": 20,
     "metadata": {},
     "output_type": "execute_result"
    }
   ],
   "source": [
    "df_2[df_2['koi_disposition'] == df_2['koi_pdisposition']].shape"
   ]
  },
  {
   "cell_type": "markdown",
   "metadata": {},
   "source": [
    "The answer is usually but not every time. We are going to want one of those columns to be our target column, but which one?\n",
    "\n",
    "After referencing the data dictionary <a href=https://exoplanetarchive.ipac.caltech.edu/docs/API_kepcandidate_columns.html>here</a> it looks like the pdisposition should be dropped as it does not include any confirmed data, thus we can't acutally use it as training or testing data."
   ]
  },
  {
   "cell_type": "code",
   "execution_count": 21,
   "metadata": {},
   "outputs": [],
   "source": [
    "df_2.drop(columns='koi_pdisposition', inplace=True)"
   ]
  },
  {
   "cell_type": "markdown",
   "metadata": {},
   "source": [
    "Now use mapping to encode the target column"
   ]
  },
  {
   "cell_type": "code",
   "execution_count": 22,
   "metadata": {},
   "outputs": [],
   "source": [
    "df_2['koi_disposition'] = df_2['koi_disposition'].map({'CONFIRMED': 1, 'FALSE POSITIVE': 0,\n",
    "                            'CANDIDATE': 2, 'NOT DISPOSITIONED': 3})"
   ]
  },
  {
   "cell_type": "code",
   "execution_count": 23,
   "metadata": {},
   "outputs": [],
   "source": [
    "# and this column is listed as :\"TCE delivery name corresponding \n",
    "# to the TCE data federated to the KOI\" ... so drop it too\n",
    "\n",
    "df_2.drop(columns='koi_tce_delivname', inplace=True)"
   ]
  },
  {
   "cell_type": "markdown",
   "metadata": {},
   "source": [
    "## Export the quick and dirty dataframe to a csv file"
   ]
  },
  {
   "cell_type": "code",
   "execution_count": 24,
   "metadata": {},
   "outputs": [],
   "source": [
    "df_2.to_csv(datapath + 'dirty_kepler.csv', index=False)"
   ]
  },
  {
   "cell_type": "markdown",
   "metadata": {},
   "source": [
    "# AND now for something Completely Different"
   ]
  },
  {
   "cell_type": "markdown",
   "metadata": {},
   "source": [
    "## Let's run the data through a Random Foreset Classifier and see what shakes out.\n",
    "\n",
    "**Start by importing scikit-learn and the needed libaries, and re-import the dataset using the new csv file**"
   ]
  },
  {
   "cell_type": "code",
   "execution_count": 25,
   "metadata": {},
   "outputs": [],
   "source": [
    "\n",
    "from sklearn.linear_model    import LinearRegression, LogisticRegression\n",
    "from sklearn.ensemble import RandomForestClassifier, ExtraTreesClassifier\n",
    "from sklearn.model_selection import cross_val_score, train_test_split, GridSearchCV\n",
    "from sklearn.preprocessing        import StandardScaler\n"
   ]
  },
  {
   "cell_type": "code",
   "execution_count": 26,
   "metadata": {},
   "outputs": [
    {
     "data": {
      "text/html": [
       "<div>\n",
       "<style scoped>\n",
       "    .dataframe tbody tr th:only-of-type {\n",
       "        vertical-align: middle;\n",
       "    }\n",
       "\n",
       "    .dataframe tbody tr th {\n",
       "        vertical-align: top;\n",
       "    }\n",
       "\n",
       "    .dataframe thead th {\n",
       "        text-align: right;\n",
       "    }\n",
       "</style>\n",
       "<table border=\"1\" class=\"dataframe\">\n",
       "  <thead>\n",
       "    <tr style=\"text-align: right;\">\n",
       "      <th></th>\n",
       "      <th>kepid</th>\n",
       "      <th>koi_disposition</th>\n",
       "      <th>koi_fpflag_nt</th>\n",
       "      <th>koi_fpflag_ss</th>\n",
       "      <th>koi_fpflag_co</th>\n",
       "      <th>koi_fpflag_ec</th>\n",
       "      <th>koi_period</th>\n",
       "      <th>koi_period_err1</th>\n",
       "      <th>koi_period_err2</th>\n",
       "      <th>koi_time0bk</th>\n",
       "      <th>...</th>\n",
       "      <th>koi_steff_err2</th>\n",
       "      <th>koi_slogg</th>\n",
       "      <th>koi_slogg_err1</th>\n",
       "      <th>koi_slogg_err2</th>\n",
       "      <th>koi_srad</th>\n",
       "      <th>koi_srad_err1</th>\n",
       "      <th>koi_srad_err2</th>\n",
       "      <th>ra</th>\n",
       "      <th>dec</th>\n",
       "      <th>koi_kepmag</th>\n",
       "    </tr>\n",
       "  </thead>\n",
       "  <tbody>\n",
       "    <tr>\n",
       "      <th>0</th>\n",
       "      <td>12168280</td>\n",
       "      <td>2</td>\n",
       "      <td>0</td>\n",
       "      <td>0</td>\n",
       "      <td>0</td>\n",
       "      <td>0</td>\n",
       "      <td>229.957537</td>\n",
       "      <td>0.006730</td>\n",
       "      <td>-0.006730</td>\n",
       "      <td>326.01840</td>\n",
       "      <td>...</td>\n",
       "      <td>-83.0</td>\n",
       "      <td>3.978</td>\n",
       "      <td>0.195</td>\n",
       "      <td>-0.120</td>\n",
       "      <td>2.057</td>\n",
       "      <td>0.365</td>\n",
       "      <td>-0.501</td>\n",
       "      <td>295.97794</td>\n",
       "      <td>50.771481</td>\n",
       "      <td>10.505</td>\n",
       "    </tr>\n",
       "    <tr>\n",
       "      <th>1</th>\n",
       "      <td>11923074</td>\n",
       "      <td>0</td>\n",
       "      <td>0</td>\n",
       "      <td>0</td>\n",
       "      <td>0</td>\n",
       "      <td>1</td>\n",
       "      <td>1.756471</td>\n",
       "      <td>0.000015</td>\n",
       "      <td>-0.000015</td>\n",
       "      <td>132.02757</td>\n",
       "      <td>...</td>\n",
       "      <td>-157.0</td>\n",
       "      <td>4.561</td>\n",
       "      <td>0.033</td>\n",
       "      <td>-0.176</td>\n",
       "      <td>0.833</td>\n",
       "      <td>0.227</td>\n",
       "      <td>-0.071</td>\n",
       "      <td>296.14072</td>\n",
       "      <td>50.279949</td>\n",
       "      <td>14.723</td>\n",
       "    </tr>\n",
       "    <tr>\n",
       "      <th>2</th>\n",
       "      <td>11867733</td>\n",
       "      <td>0</td>\n",
       "      <td>0</td>\n",
       "      <td>1</td>\n",
       "      <td>0</td>\n",
       "      <td>0</td>\n",
       "      <td>384.356448</td>\n",
       "      <td>0.003680</td>\n",
       "      <td>-0.003680</td>\n",
       "      <td>298.90354</td>\n",
       "      <td>...</td>\n",
       "      <td>-193.0</td>\n",
       "      <td>4.445</td>\n",
       "      <td>0.067</td>\n",
       "      <td>-0.202</td>\n",
       "      <td>0.994</td>\n",
       "      <td>0.291</td>\n",
       "      <td>-0.125</td>\n",
       "      <td>293.77362</td>\n",
       "      <td>50.124470</td>\n",
       "      <td>14.391</td>\n",
       "    </tr>\n",
       "    <tr>\n",
       "      <th>3</th>\n",
       "      <td>10585887</td>\n",
       "      <td>0</td>\n",
       "      <td>1</td>\n",
       "      <td>0</td>\n",
       "      <td>0</td>\n",
       "      <td>0</td>\n",
       "      <td>378.654840</td>\n",
       "      <td>0.022800</td>\n",
       "      <td>-0.022800</td>\n",
       "      <td>288.25840</td>\n",
       "      <td>...</td>\n",
       "      <td>-209.0</td>\n",
       "      <td>4.463</td>\n",
       "      <td>0.070</td>\n",
       "      <td>-0.210</td>\n",
       "      <td>0.970</td>\n",
       "      <td>0.306</td>\n",
       "      <td>-0.123</td>\n",
       "      <td>285.24338</td>\n",
       "      <td>47.812592</td>\n",
       "      <td>14.872</td>\n",
       "    </tr>\n",
       "    <tr>\n",
       "      <th>4</th>\n",
       "      <td>10532751</td>\n",
       "      <td>0</td>\n",
       "      <td>1</td>\n",
       "      <td>0</td>\n",
       "      <td>0</td>\n",
       "      <td>0</td>\n",
       "      <td>367.761848</td>\n",
       "      <td>0.006750</td>\n",
       "      <td>-0.006750</td>\n",
       "      <td>194.76970</td>\n",
       "      <td>...</td>\n",
       "      <td>-295.0</td>\n",
       "      <td>2.897</td>\n",
       "      <td>0.045</td>\n",
       "      <td>-0.014</td>\n",
       "      <td>9.888</td>\n",
       "      <td>0.257</td>\n",
       "      <td>-2.058</td>\n",
       "      <td>290.87155</td>\n",
       "      <td>47.753368</td>\n",
       "      <td>10.736</td>\n",
       "    </tr>\n",
       "  </tbody>\n",
       "</table>\n",
       "<p>5 rows × 42 columns</p>\n",
       "</div>"
      ],
      "text/plain": [
       "      kepid  koi_disposition  koi_fpflag_nt  koi_fpflag_ss  koi_fpflag_co  \\\n",
       "0  12168280                2              0              0              0   \n",
       "1  11923074                0              0              0              0   \n",
       "2  11867733                0              0              1              0   \n",
       "3  10585887                0              1              0              0   \n",
       "4  10532751                0              1              0              0   \n",
       "\n",
       "   koi_fpflag_ec  koi_period  koi_period_err1  koi_period_err2  koi_time0bk  \\\n",
       "0              0  229.957537         0.006730        -0.006730    326.01840   \n",
       "1              1    1.756471         0.000015        -0.000015    132.02757   \n",
       "2              0  384.356448         0.003680        -0.003680    298.90354   \n",
       "3              0  378.654840         0.022800        -0.022800    288.25840   \n",
       "4              0  367.761848         0.006750        -0.006750    194.76970   \n",
       "\n",
       "   ...  koi_steff_err2  koi_slogg  koi_slogg_err1  koi_slogg_err2  koi_srad  \\\n",
       "0  ...           -83.0      3.978           0.195          -0.120     2.057   \n",
       "1  ...          -157.0      4.561           0.033          -0.176     0.833   \n",
       "2  ...          -193.0      4.445           0.067          -0.202     0.994   \n",
       "3  ...          -209.0      4.463           0.070          -0.210     0.970   \n",
       "4  ...          -295.0      2.897           0.045          -0.014     9.888   \n",
       "\n",
       "   koi_srad_err1  koi_srad_err2         ra        dec  koi_kepmag  \n",
       "0          0.365         -0.501  295.97794  50.771481      10.505  \n",
       "1          0.227         -0.071  296.14072  50.279949      14.723  \n",
       "2          0.291         -0.125  293.77362  50.124470      14.391  \n",
       "3          0.306         -0.123  285.24338  47.812592      14.872  \n",
       "4          0.257         -2.058  290.87155  47.753368      10.736  \n",
       "\n",
       "[5 rows x 42 columns]"
      ]
     },
     "execution_count": 26,
     "metadata": {},
     "output_type": "execute_result"
    }
   ],
   "source": [
    "dirty = pd.read_csv(datapath + 'dirty_kepler.csv')\n",
    "dirty.head()"
   ]
  },
  {
   "cell_type": "markdown",
   "metadata": {},
   "source": [
    "We want to predict the disposition. Get a baseline on the data"
   ]
  },
  {
   "cell_type": "code",
   "execution_count": 27,
   "metadata": {},
   "outputs": [
    {
     "data": {
      "text/plain": [
       "0    0.481930\n",
       "1    0.261322\n",
       "2    0.256747\n",
       "Name: koi_disposition, dtype: float64"
      ]
     },
     "execution_count": 27,
     "metadata": {},
     "output_type": "execute_result"
    }
   ],
   "source": [
    "dirty.koi_disposition.value_counts(normalize=True)"
   ]
  },
  {
   "cell_type": "markdown",
   "metadata": {},
   "source": [
    "It looks like we have 48% that have been classified as 'False Positive'. These are objects that the Kepler Objects of Interest dataset had classifed as possible planets that are later deemed not planets. We should think about changing the nomenclature so that we don't confuse this column heading with a measure of our own model later.\n",
    "\n",
    "The rest of the observations are split evenly between Confirmed exoplanets and Unknown.  We'll want to save all of the unknowns as our testing dataset, and split the remaining 75% of our original dataset in to a training and validation set."
   ]
  },
  {
   "cell_type": "code",
   "execution_count": 28,
   "metadata": {},
   "outputs": [
    {
     "data": {
      "text/plain": [
       "(2245, 42)"
      ]
     },
     "execution_count": 28,
     "metadata": {},
     "output_type": "execute_result"
    }
   ],
   "source": [
    "koi_unknowns = dirty[dirty.koi_disposition == 2]\n",
    "koi_unknowns.shape"
   ]
  },
  {
   "cell_type": "code",
   "execution_count": 29,
   "metadata": {},
   "outputs": [
    {
     "name": "stdout",
     "output_type": "stream",
     "text": [
      "unk:  0    2243\n",
      "1       2\n",
      "Name: koi_fpflag_ss, dtype: int64\n",
      "dirty:  0    6622\n",
      "1    2122\n",
      "Name: koi_fpflag_ss, dtype: int64\n"
     ]
    }
   ],
   "source": [
    "#koi_unknowns.columns\n",
    "print('unk: ', koi_unknowns.koi_fpflag_ss.value_counts())\n",
    "print('dirty: ', dirty.koi_fpflag_ss.value_counts())"
   ]
  },
  {
   "cell_type": "markdown",
   "metadata": {},
   "source": [
    "In the above cell, I explore some of the columns that exist in the dataset and how the unknowns differ from the dataset as a whole. All of these flags may be things that denote an exoplanet"
   ]
  },
  {
   "cell_type": "code",
   "execution_count": 30,
   "metadata": {},
   "outputs": [
    {
     "data": {
      "text/plain": [
       "Index(['kepid', 'koi_disposition', 'koi_fpflag_nt', 'koi_fpflag_ss',\n",
       "       'koi_fpflag_co', 'koi_fpflag_ec', 'koi_period', 'koi_period_err1',\n",
       "       'koi_period_err2', 'koi_time0bk', 'koi_time0bk_err1',\n",
       "       'koi_time0bk_err2', 'koi_impact', 'koi_impact_err1', 'koi_impact_err2',\n",
       "       'koi_duration', 'koi_duration_err1', 'koi_duration_err2', 'koi_depth',\n",
       "       'koi_depth_err1', 'koi_depth_err2', 'koi_prad', 'koi_prad_err1',\n",
       "       'koi_prad_err2', 'koi_teq', 'koi_insol', 'koi_insol_err1',\n",
       "       'koi_insol_err2', 'koi_model_snr', 'koi_tce_plnt_num', 'koi_steff',\n",
       "       'koi_steff_err1', 'koi_steff_err2', 'koi_slogg', 'koi_slogg_err1',\n",
       "       'koi_slogg_err2', 'koi_srad', 'koi_srad_err1', 'koi_srad_err2', 'ra',\n",
       "       'dec', 'koi_kepmag'],\n",
       "      dtype='object')"
      ]
     },
     "execution_count": 30,
     "metadata": {},
     "output_type": "execute_result"
    }
   ],
   "source": [
    "koi_unknowns.columns\n",
    "# print('unk: ', koi_unknowns.koi_fpflag_ss.value_counts())\n",
    "# print('dirty: ', dirty.koi_fpflag_ss.value_counts())"
   ]
  },
  {
   "cell_type": "code",
   "execution_count": 31,
   "metadata": {},
   "outputs": [
    {
     "data": {
      "text/plain": [
       "1.7910     4\n",
       "2.7060     3\n",
       "2.4690     3\n",
       "4.0260     3\n",
       "2.6630     3\n",
       "          ..\n",
       "3.1760     1\n",
       "2.9497     1\n",
       "2.9878     1\n",
       "22.3700    1\n",
       "16.5000    1\n",
       "Name: koi_duration, Length: 2038, dtype: int64"
      ]
     },
     "execution_count": 31,
     "metadata": {},
     "output_type": "execute_result"
    }
   ],
   "source": [
    "koi_unknowns.koi_duration.value_counts()"
   ]
  },
  {
   "cell_type": "code",
   "execution_count": 32,
   "metadata": {},
   "outputs": [
    {
     "data": {
      "text/plain": [
       "(2245, 42)"
      ]
     },
     "execution_count": 32,
     "metadata": {},
     "output_type": "execute_result"
    }
   ],
   "source": [
    "koi_unknowns.shape"
   ]
  },
  {
   "cell_type": "markdown",
   "metadata": {},
   "source": [
    "Accepting that this is supposed to be the quick and dirty baseline, let's now train_test_split the rest of the data"
   ]
  },
  {
   "cell_type": "code",
   "execution_count": 33,
   "metadata": {},
   "outputs": [
    {
     "data": {
      "text/plain": [
       "0    4214\n",
       "1    2285\n",
       "2    2245\n",
       "Name: koi_disposition, dtype: int64"
      ]
     },
     "execution_count": 33,
     "metadata": {},
     "output_type": "execute_result"
    }
   ],
   "source": [
    "dirty.koi_disposition.value_counts()"
   ]
  },
  {
   "cell_type": "code",
   "execution_count": 34,
   "metadata": {},
   "outputs": [
    {
     "data": {
      "text/plain": [
       "(6499, 42)"
      ]
     },
     "execution_count": 34,
     "metadata": {},
     "output_type": "execute_result"
    }
   ],
   "source": [
    "train = dirty[dirty.koi_disposition!=2]\n",
    "train.shape"
   ]
  },
  {
   "cell_type": "code",
   "execution_count": 35,
   "metadata": {},
   "outputs": [
    {
     "data": {
      "text/plain": [
       "0    0.648407\n",
       "1    0.351593\n",
       "Name: koi_disposition, dtype: float64"
      ]
     },
     "execution_count": 35,
     "metadata": {},
     "output_type": "execute_result"
    }
   ],
   "source": [
    "train.koi_disposition.value_counts(normalize=True)"
   ]
  },
  {
   "cell_type": "code",
   "execution_count": 36,
   "metadata": {},
   "outputs": [
    {
     "data": {
      "text/plain": [
       "0.6484074472995845"
      ]
     },
     "execution_count": 36,
     "metadata": {},
     "output_type": "execute_result"
    }
   ],
   "source": [
    "dirty_baseline = train.koi_disposition.value_counts(normalize=True)[0]\n",
    "dirty_baseline"
   ]
  },
  {
   "cell_type": "code",
   "execution_count": 37,
   "metadata": {},
   "outputs": [],
   "source": [
    "X = train.drop(columns='koi_disposition')\n",
    "y = train['koi_disposition']\n",
    "\n",
    "X_train, X_val, y_train, y_val = train_test_split(X, y, \n",
    "                                                 test_size = .2,\n",
    "                                                 stratify=y,\n",
    "                                                 random_state=42)"
   ]
  },
  {
   "cell_type": "code",
   "execution_count": 38,
   "metadata": {},
   "outputs": [
    {
     "data": {
      "text/plain": [
       "(5199, 41)"
      ]
     },
     "execution_count": 38,
     "metadata": {},
     "output_type": "execute_result"
    }
   ],
   "source": [
    "X_train.shape"
   ]
  },
  {
   "cell_type": "markdown",
   "metadata": {},
   "source": [
    "# Create some Models!"
   ]
  },
  {
   "cell_type": "markdown",
   "metadata": {},
   "source": [
    "## 1. Linear Regression Model Baseline"
   ]
  },
  {
   "cell_type": "code",
   "execution_count": 39,
   "metadata": {},
   "outputs": [
    {
     "name": "stdout",
     "output_type": "stream",
     "text": [
      "Linear Regression Score :  0.6758576072978744\n",
      "Linear Validation Score :  0.6483967383285573\n",
      "Baseline Score 0.6484074472995845\n"
     ]
    }
   ],
   "source": [
    "linr = LinearRegression()\n",
    "linr.fit(X_train, y_train)\n",
    "\n",
    "print('Linear Regression Score : ', linr.score(X_train, y_train))\n",
    "print('Linear Validation Score : ', linr.score(X_val, y_val))\n",
    "print('Baseline Score', dirty_baseline)"
   ]
  },
  {
   "cell_type": "markdown",
   "metadata": {},
   "source": [
    "Creating a Linear Regression model using ALL of the columns, which we wouldn't normally do, our training score is barely beating our baseline score, and our testing score is slightly less as good."
   ]
  },
  {
   "cell_type": "markdown",
   "metadata": {},
   "source": [
    "## 2. Logistic Regression Model Baseline"
   ]
  },
  {
   "cell_type": "code",
   "execution_count": 40,
   "metadata": {},
   "outputs": [
    {
     "name": "stdout",
     "output_type": "stream",
     "text": [
      "Logistic Regression Score (train) :  0.7228313137141757\n",
      "Logistic Regression Score (val) :  0.7484615384615385\n",
      "Baseline Score 0.6484074472995845\n"
     ]
    }
   ],
   "source": [
    "logr = LogisticRegression()\n",
    "logr.fit(X_train, y_train)\n",
    "\n",
    "print('Logistic Regression Score (train) : ', logr.score(X_train, y_train))\n",
    "print('Logistic Regression Score (val) : ', logr.score(X_val, y_val))\n",
    "print('Baseline Score', dirty_baseline)"
   ]
  },
  {
   "cell_type": "markdown",
   "metadata": {},
   "source": [
    "Creating a Logistic Regression model using ALL of the columns without scaling the data and without feature engineering, we improve on our baseline and actually see a better score on the testing data than the training data."
   ]
  },
  {
   "cell_type": "markdown",
   "metadata": {},
   "source": [
    "## 3. Random Forest Classifier Baseline "
   ]
  },
  {
   "cell_type": "code",
   "execution_count": 41,
   "metadata": {},
   "outputs": [
    {
     "name": "stdout",
     "output_type": "stream",
     "text": [
      "Random Forest Score (train) :  1.0\n",
      "Random Forest Score (val) :  0.9938461538461538\n",
      "Baseline Score 0.6484074472995845\n"
     ]
    }
   ],
   "source": [
    "rf = RandomForestClassifier()\n",
    "rf.fit(X_train, y_train)\n",
    "\n",
    "print('Random Forest Score (train) : ', rf.score(X_train, y_train))\n",
    "print('Random Forest Score (val) : ', rf.score(X_val, y_val))\n",
    "print('Baseline Score', dirty_baseline)"
   ]
  },
  {
   "cell_type": "markdown",
   "metadata": {},
   "source": [
    "This is quite suspect...it looks like we have a perfect accuracy score on the training data and a 99.3% accuracy score on the validation data when we run a baseline Random Forest Classifier on our dataset.\n",
    "\n",
    "I don't trust this on first pass, however it might be good to run the unknown dataset through this model and see what comes out the other side."
   ]
  },
  {
   "cell_type": "code",
   "execution_count": 42,
   "metadata": {},
   "outputs": [
    {
     "data": {
      "text/plain": [
       "(5199, 41)"
      ]
     },
     "execution_count": 42,
     "metadata": {},
     "output_type": "execute_result"
    }
   ],
   "source": [
    "X_train.shape"
   ]
  },
  {
   "cell_type": "code",
   "execution_count": 43,
   "metadata": {},
   "outputs": [
    {
     "data": {
      "text/html": [
       "<div>\n",
       "<style scoped>\n",
       "    .dataframe tbody tr th:only-of-type {\n",
       "        vertical-align: middle;\n",
       "    }\n",
       "\n",
       "    .dataframe tbody tr th {\n",
       "        vertical-align: top;\n",
       "    }\n",
       "\n",
       "    .dataframe thead th {\n",
       "        text-align: right;\n",
       "    }\n",
       "</style>\n",
       "<table border=\"1\" class=\"dataframe\">\n",
       "  <thead>\n",
       "    <tr style=\"text-align: right;\">\n",
       "      <th></th>\n",
       "      <th>kepid</th>\n",
       "      <th>koi_disposition</th>\n",
       "      <th>koi_fpflag_nt</th>\n",
       "      <th>koi_fpflag_ss</th>\n",
       "      <th>koi_fpflag_co</th>\n",
       "      <th>koi_fpflag_ec</th>\n",
       "      <th>koi_period</th>\n",
       "      <th>koi_period_err1</th>\n",
       "      <th>koi_period_err2</th>\n",
       "      <th>koi_time0bk</th>\n",
       "      <th>...</th>\n",
       "      <th>koi_steff_err2</th>\n",
       "      <th>koi_slogg</th>\n",
       "      <th>koi_slogg_err1</th>\n",
       "      <th>koi_slogg_err2</th>\n",
       "      <th>koi_srad</th>\n",
       "      <th>koi_srad_err1</th>\n",
       "      <th>koi_srad_err2</th>\n",
       "      <th>ra</th>\n",
       "      <th>dec</th>\n",
       "      <th>koi_kepmag</th>\n",
       "    </tr>\n",
       "  </thead>\n",
       "  <tbody>\n",
       "    <tr>\n",
       "      <th>0</th>\n",
       "      <td>12168280</td>\n",
       "      <td>2</td>\n",
       "      <td>0</td>\n",
       "      <td>0</td>\n",
       "      <td>0</td>\n",
       "      <td>0</td>\n",
       "      <td>229.957537</td>\n",
       "      <td>0.006730</td>\n",
       "      <td>-0.006730</td>\n",
       "      <td>326.01840</td>\n",
       "      <td>...</td>\n",
       "      <td>-83.0</td>\n",
       "      <td>3.978</td>\n",
       "      <td>0.195</td>\n",
       "      <td>-0.120</td>\n",
       "      <td>2.057</td>\n",
       "      <td>0.365</td>\n",
       "      <td>-0.501</td>\n",
       "      <td>295.97794</td>\n",
       "      <td>50.771481</td>\n",
       "      <td>10.505</td>\n",
       "    </tr>\n",
       "    <tr>\n",
       "      <th>10</th>\n",
       "      <td>9592621</td>\n",
       "      <td>2</td>\n",
       "      <td>0</td>\n",
       "      <td>0</td>\n",
       "      <td>0</td>\n",
       "      <td>0</td>\n",
       "      <td>191.037280</td>\n",
       "      <td>0.013200</td>\n",
       "      <td>-0.013200</td>\n",
       "      <td>153.91070</td>\n",
       "      <td>...</td>\n",
       "      <td>-180.0</td>\n",
       "      <td>4.497</td>\n",
       "      <td>0.055</td>\n",
       "      <td>-0.165</td>\n",
       "      <td>0.901</td>\n",
       "      <td>0.213</td>\n",
       "      <td>-0.091</td>\n",
       "      <td>293.68390</td>\n",
       "      <td>46.265541</td>\n",
       "      <td>16.652</td>\n",
       "    </tr>\n",
       "    <tr>\n",
       "      <th>16</th>\n",
       "      <td>9159288</td>\n",
       "      <td>2</td>\n",
       "      <td>0</td>\n",
       "      <td>0</td>\n",
       "      <td>0</td>\n",
       "      <td>0</td>\n",
       "      <td>66.673050</td>\n",
       "      <td>0.012400</td>\n",
       "      <td>-0.012400</td>\n",
       "      <td>161.59000</td>\n",
       "      <td>...</td>\n",
       "      <td>-256.0</td>\n",
       "      <td>4.369</td>\n",
       "      <td>0.072</td>\n",
       "      <td>-0.217</td>\n",
       "      <td>1.190</td>\n",
       "      <td>0.404</td>\n",
       "      <td>-0.135</td>\n",
       "      <td>293.68979</td>\n",
       "      <td>45.549332</td>\n",
       "      <td>14.634</td>\n",
       "    </tr>\n",
       "    <tr>\n",
       "      <th>17</th>\n",
       "      <td>9011955</td>\n",
       "      <td>2</td>\n",
       "      <td>0</td>\n",
       "      <td>0</td>\n",
       "      <td>0</td>\n",
       "      <td>0</td>\n",
       "      <td>367.089600</td>\n",
       "      <td>0.022800</td>\n",
       "      <td>-0.022800</td>\n",
       "      <td>178.67440</td>\n",
       "      <td>...</td>\n",
       "      <td>-260.0</td>\n",
       "      <td>4.429</td>\n",
       "      <td>0.058</td>\n",
       "      <td>-0.232</td>\n",
       "      <td>1.100</td>\n",
       "      <td>0.384</td>\n",
       "      <td>-0.128</td>\n",
       "      <td>287.86737</td>\n",
       "      <td>45.321289</td>\n",
       "      <td>15.267</td>\n",
       "    </tr>\n",
       "    <tr>\n",
       "      <th>19</th>\n",
       "      <td>8673511</td>\n",
       "      <td>2</td>\n",
       "      <td>0</td>\n",
       "      <td>0</td>\n",
       "      <td>0</td>\n",
       "      <td>0</td>\n",
       "      <td>0.757261</td>\n",
       "      <td>0.000004</td>\n",
       "      <td>-0.000004</td>\n",
       "      <td>131.62154</td>\n",
       "      <td>...</td>\n",
       "      <td>-171.0</td>\n",
       "      <td>4.479</td>\n",
       "      <td>0.062</td>\n",
       "      <td>-0.200</td>\n",
       "      <td>0.953</td>\n",
       "      <td>0.279</td>\n",
       "      <td>-0.093</td>\n",
       "      <td>284.29565</td>\n",
       "      <td>44.895859</td>\n",
       "      <td>14.024</td>\n",
       "    </tr>\n",
       "  </tbody>\n",
       "</table>\n",
       "<p>5 rows × 42 columns</p>\n",
       "</div>"
      ],
      "text/plain": [
       "       kepid  koi_disposition  koi_fpflag_nt  koi_fpflag_ss  koi_fpflag_co  \\\n",
       "0   12168280                2              0              0              0   \n",
       "10   9592621                2              0              0              0   \n",
       "16   9159288                2              0              0              0   \n",
       "17   9011955                2              0              0              0   \n",
       "19   8673511                2              0              0              0   \n",
       "\n",
       "    koi_fpflag_ec  koi_period  koi_period_err1  koi_period_err2  koi_time0bk  \\\n",
       "0               0  229.957537         0.006730        -0.006730    326.01840   \n",
       "10              0  191.037280         0.013200        -0.013200    153.91070   \n",
       "16              0   66.673050         0.012400        -0.012400    161.59000   \n",
       "17              0  367.089600         0.022800        -0.022800    178.67440   \n",
       "19              0    0.757261         0.000004        -0.000004    131.62154   \n",
       "\n",
       "    ...  koi_steff_err2  koi_slogg  koi_slogg_err1  koi_slogg_err2  koi_srad  \\\n",
       "0   ...           -83.0      3.978           0.195          -0.120     2.057   \n",
       "10  ...          -180.0      4.497           0.055          -0.165     0.901   \n",
       "16  ...          -256.0      4.369           0.072          -0.217     1.190   \n",
       "17  ...          -260.0      4.429           0.058          -0.232     1.100   \n",
       "19  ...          -171.0      4.479           0.062          -0.200     0.953   \n",
       "\n",
       "    koi_srad_err1  koi_srad_err2         ra        dec  koi_kepmag  \n",
       "0           0.365         -0.501  295.97794  50.771481      10.505  \n",
       "10          0.213         -0.091  293.68390  46.265541      16.652  \n",
       "16          0.404         -0.135  293.68979  45.549332      14.634  \n",
       "17          0.384         -0.128  287.86737  45.321289      15.267  \n",
       "19          0.279         -0.093  284.29565  44.895859      14.024  \n",
       "\n",
       "[5 rows x 42 columns]"
      ]
     },
     "execution_count": 43,
     "metadata": {},
     "output_type": "execute_result"
    }
   ],
   "source": [
    "koi_unknowns.head()"
   ]
  },
  {
   "cell_type": "markdown",
   "metadata": {},
   "source": [
    "### Use the Random Forest Classifier to predict the unknowns set"
   ]
  },
  {
   "cell_type": "code",
   "execution_count": 67,
   "metadata": {},
   "outputs": [],
   "source": [
    "koi_unknowns = koi_unknowns.drop(columns=('koi_disposition'))\n"
   ]
  },
  {
   "cell_type": "markdown",
   "metadata": {},
   "source": [
    "Export the koi_unknowns file to the data folder so that we can use this as our blind testing set later"
   ]
  },
  {
   "cell_type": "code",
   "execution_count": 65,
   "metadata": {},
   "outputs": [],
   "source": [
    "koi_unknowns.to_csv(datapath + 'kepler_candidates.csv', index=False)"
   ]
  },
  {
   "cell_type": "code",
   "execution_count": 45,
   "metadata": {},
   "outputs": [
    {
     "data": {
      "text/html": [
       "<div>\n",
       "<style scoped>\n",
       "    .dataframe tbody tr th:only-of-type {\n",
       "        vertical-align: middle;\n",
       "    }\n",
       "\n",
       "    .dataframe tbody tr th {\n",
       "        vertical-align: top;\n",
       "    }\n",
       "\n",
       "    .dataframe thead th {\n",
       "        text-align: right;\n",
       "    }\n",
       "</style>\n",
       "<table border=\"1\" class=\"dataframe\">\n",
       "  <thead>\n",
       "    <tr style=\"text-align: right;\">\n",
       "      <th></th>\n",
       "      <th>kepid</th>\n",
       "      <th>koi_fpflag_nt</th>\n",
       "      <th>koi_fpflag_ss</th>\n",
       "      <th>koi_fpflag_co</th>\n",
       "      <th>koi_fpflag_ec</th>\n",
       "      <th>koi_period</th>\n",
       "      <th>koi_period_err1</th>\n",
       "      <th>koi_period_err2</th>\n",
       "      <th>koi_time0bk</th>\n",
       "      <th>koi_time0bk_err1</th>\n",
       "      <th>...</th>\n",
       "      <th>koi_slogg</th>\n",
       "      <th>koi_slogg_err1</th>\n",
       "      <th>koi_slogg_err2</th>\n",
       "      <th>koi_srad</th>\n",
       "      <th>koi_srad_err1</th>\n",
       "      <th>koi_srad_err2</th>\n",
       "      <th>ra</th>\n",
       "      <th>dec</th>\n",
       "      <th>koi_kepmag</th>\n",
       "      <th>exoplanet</th>\n",
       "    </tr>\n",
       "  </thead>\n",
       "  <tbody>\n",
       "    <tr>\n",
       "      <th>0</th>\n",
       "      <td>12168280</td>\n",
       "      <td>0</td>\n",
       "      <td>0</td>\n",
       "      <td>0</td>\n",
       "      <td>0</td>\n",
       "      <td>229.957537</td>\n",
       "      <td>0.006730</td>\n",
       "      <td>-0.006730</td>\n",
       "      <td>326.01840</td>\n",
       "      <td>0.01510</td>\n",
       "      <td>...</td>\n",
       "      <td>3.978</td>\n",
       "      <td>0.195</td>\n",
       "      <td>-0.120</td>\n",
       "      <td>2.057</td>\n",
       "      <td>0.365</td>\n",
       "      <td>-0.501</td>\n",
       "      <td>295.97794</td>\n",
       "      <td>50.771481</td>\n",
       "      <td>10.505</td>\n",
       "      <td>0</td>\n",
       "    </tr>\n",
       "    <tr>\n",
       "      <th>10</th>\n",
       "      <td>9592621</td>\n",
       "      <td>0</td>\n",
       "      <td>0</td>\n",
       "      <td>0</td>\n",
       "      <td>0</td>\n",
       "      <td>191.037280</td>\n",
       "      <td>0.013200</td>\n",
       "      <td>-0.013200</td>\n",
       "      <td>153.91070</td>\n",
       "      <td>0.06480</td>\n",
       "      <td>...</td>\n",
       "      <td>4.497</td>\n",
       "      <td>0.055</td>\n",
       "      <td>-0.165</td>\n",
       "      <td>0.901</td>\n",
       "      <td>0.213</td>\n",
       "      <td>-0.091</td>\n",
       "      <td>293.68390</td>\n",
       "      <td>46.265541</td>\n",
       "      <td>16.652</td>\n",
       "      <td>0</td>\n",
       "    </tr>\n",
       "    <tr>\n",
       "      <th>16</th>\n",
       "      <td>9159288</td>\n",
       "      <td>0</td>\n",
       "      <td>0</td>\n",
       "      <td>0</td>\n",
       "      <td>0</td>\n",
       "      <td>66.673050</td>\n",
       "      <td>0.012400</td>\n",
       "      <td>-0.012400</td>\n",
       "      <td>161.59000</td>\n",
       "      <td>0.17600</td>\n",
       "      <td>...</td>\n",
       "      <td>4.369</td>\n",
       "      <td>0.072</td>\n",
       "      <td>-0.217</td>\n",
       "      <td>1.190</td>\n",
       "      <td>0.404</td>\n",
       "      <td>-0.135</td>\n",
       "      <td>293.68979</td>\n",
       "      <td>45.549332</td>\n",
       "      <td>14.634</td>\n",
       "      <td>0</td>\n",
       "    </tr>\n",
       "    <tr>\n",
       "      <th>17</th>\n",
       "      <td>9011955</td>\n",
       "      <td>0</td>\n",
       "      <td>0</td>\n",
       "      <td>0</td>\n",
       "      <td>0</td>\n",
       "      <td>367.089600</td>\n",
       "      <td>0.022800</td>\n",
       "      <td>-0.022800</td>\n",
       "      <td>178.67440</td>\n",
       "      <td>0.04220</td>\n",
       "      <td>...</td>\n",
       "      <td>4.429</td>\n",
       "      <td>0.058</td>\n",
       "      <td>-0.232</td>\n",
       "      <td>1.100</td>\n",
       "      <td>0.384</td>\n",
       "      <td>-0.128</td>\n",
       "      <td>287.86737</td>\n",
       "      <td>45.321289</td>\n",
       "      <td>15.267</td>\n",
       "      <td>0</td>\n",
       "    </tr>\n",
       "    <tr>\n",
       "      <th>19</th>\n",
       "      <td>8673511</td>\n",
       "      <td>0</td>\n",
       "      <td>0</td>\n",
       "      <td>0</td>\n",
       "      <td>0</td>\n",
       "      <td>0.757261</td>\n",
       "      <td>0.000004</td>\n",
       "      <td>-0.000004</td>\n",
       "      <td>131.62154</td>\n",
       "      <td>0.00472</td>\n",
       "      <td>...</td>\n",
       "      <td>4.479</td>\n",
       "      <td>0.062</td>\n",
       "      <td>-0.200</td>\n",
       "      <td>0.953</td>\n",
       "      <td>0.279</td>\n",
       "      <td>-0.093</td>\n",
       "      <td>284.29565</td>\n",
       "      <td>44.895859</td>\n",
       "      <td>14.024</td>\n",
       "      <td>0</td>\n",
       "    </tr>\n",
       "  </tbody>\n",
       "</table>\n",
       "<p>5 rows × 42 columns</p>\n",
       "</div>"
      ],
      "text/plain": [
       "       kepid  koi_fpflag_nt  koi_fpflag_ss  koi_fpflag_co  koi_fpflag_ec  \\\n",
       "0   12168280              0              0              0              0   \n",
       "10   9592621              0              0              0              0   \n",
       "16   9159288              0              0              0              0   \n",
       "17   9011955              0              0              0              0   \n",
       "19   8673511              0              0              0              0   \n",
       "\n",
       "    koi_period  koi_period_err1  koi_period_err2  koi_time0bk  \\\n",
       "0   229.957537         0.006730        -0.006730    326.01840   \n",
       "10  191.037280         0.013200        -0.013200    153.91070   \n",
       "16   66.673050         0.012400        -0.012400    161.59000   \n",
       "17  367.089600         0.022800        -0.022800    178.67440   \n",
       "19    0.757261         0.000004        -0.000004    131.62154   \n",
       "\n",
       "    koi_time0bk_err1  ...  koi_slogg  koi_slogg_err1  koi_slogg_err2  \\\n",
       "0            0.01510  ...      3.978           0.195          -0.120   \n",
       "10           0.06480  ...      4.497           0.055          -0.165   \n",
       "16           0.17600  ...      4.369           0.072          -0.217   \n",
       "17           0.04220  ...      4.429           0.058          -0.232   \n",
       "19           0.00472  ...      4.479           0.062          -0.200   \n",
       "\n",
       "    koi_srad  koi_srad_err1  koi_srad_err2         ra        dec  koi_kepmag  \\\n",
       "0      2.057          0.365         -0.501  295.97794  50.771481      10.505   \n",
       "10     0.901          0.213         -0.091  293.68390  46.265541      16.652   \n",
       "16     1.190          0.404         -0.135  293.68979  45.549332      14.634   \n",
       "17     1.100          0.384         -0.128  287.86737  45.321289      15.267   \n",
       "19     0.953          0.279         -0.093  284.29565  44.895859      14.024   \n",
       "\n",
       "    exoplanet  \n",
       "0           0  \n",
       "10          0  \n",
       "16          0  \n",
       "17          0  \n",
       "19          0  \n",
       "\n",
       "[5 rows x 42 columns]"
      ]
     },
     "execution_count": 45,
     "metadata": {},
     "output_type": "execute_result"
    }
   ],
   "source": [
    "koi_unknowns['exoplanet'] = rf.predict(koi_unknowns)\n",
    "koi_unknowns.head()"
   ]
  },
  {
   "cell_type": "code",
   "execution_count": 46,
   "metadata": {},
   "outputs": [
    {
     "data": {
      "text/plain": [
       "1    1390\n",
       "0     855\n",
       "Name: exoplanet, dtype: int64"
      ]
     },
     "execution_count": 46,
     "metadata": {},
     "output_type": "execute_result"
    }
   ],
   "source": [
    "koi_unknowns.exoplanet.value_counts()"
   ]
  },
  {
   "cell_type": "code",
   "execution_count": 47,
   "metadata": {},
   "outputs": [
    {
     "name": "stdout",
     "output_type": "stream",
     "text": [
      "This model predicts 61.92% of its observatsions are exoplanets\n"
     ]
    }
   ],
   "source": [
    "fr_preds = koi_unknowns.exoplanet.value_counts(normalize=True)[1]\n",
    "print('This model predicts {0:.2%} of its observatsions are exoplanets'.format(fr_preds))\n",
    "      "
   ]
  },
  {
   "cell_type": "markdown",
   "metadata": {},
   "source": [
    "Is it possible that 64% of the Kepler Objects of interest that have not yet been classified by NASA are in fact exoplanets? Yes it is possible. Is it likely that I have just created a successful predictor, based only on NASA's data, where that same dataset predicted that 2 out of 3 Kepler Objects of interest were definitely not exoplanets? That is far less likely."
   ]
  },
  {
   "cell_type": "code",
   "execution_count": 48,
   "metadata": {},
   "outputs": [
    {
     "data": {
      "text/html": [
       "<div>\n",
       "<style scoped>\n",
       "    .dataframe tbody tr th:only-of-type {\n",
       "        vertical-align: middle;\n",
       "    }\n",
       "\n",
       "    .dataframe tbody tr th {\n",
       "        vertical-align: top;\n",
       "    }\n",
       "\n",
       "    .dataframe thead th {\n",
       "        text-align: right;\n",
       "    }\n",
       "</style>\n",
       "<table border=\"1\" class=\"dataframe\">\n",
       "  <thead>\n",
       "    <tr style=\"text-align: right;\">\n",
       "      <th></th>\n",
       "      <th>kepid</th>\n",
       "      <th>koi_fpflag_nt</th>\n",
       "      <th>koi_fpflag_ss</th>\n",
       "      <th>koi_fpflag_co</th>\n",
       "      <th>koi_fpflag_ec</th>\n",
       "      <th>koi_period</th>\n",
       "      <th>koi_period_err1</th>\n",
       "      <th>koi_period_err2</th>\n",
       "      <th>koi_time0bk</th>\n",
       "      <th>koi_time0bk_err1</th>\n",
       "      <th>...</th>\n",
       "      <th>koi_slogg</th>\n",
       "      <th>koi_slogg_err1</th>\n",
       "      <th>koi_slogg_err2</th>\n",
       "      <th>koi_srad</th>\n",
       "      <th>koi_srad_err1</th>\n",
       "      <th>koi_srad_err2</th>\n",
       "      <th>ra</th>\n",
       "      <th>dec</th>\n",
       "      <th>koi_kepmag</th>\n",
       "      <th>exoplanet</th>\n",
       "    </tr>\n",
       "  </thead>\n",
       "  <tbody>\n",
       "    <tr>\n",
       "      <th>0</th>\n",
       "      <td>12168280</td>\n",
       "      <td>0</td>\n",
       "      <td>0</td>\n",
       "      <td>0</td>\n",
       "      <td>0</td>\n",
       "      <td>229.957537</td>\n",
       "      <td>0.006730</td>\n",
       "      <td>-0.006730</td>\n",
       "      <td>326.01840</td>\n",
       "      <td>0.01510</td>\n",
       "      <td>...</td>\n",
       "      <td>3.978</td>\n",
       "      <td>0.195</td>\n",
       "      <td>-0.120</td>\n",
       "      <td>2.057</td>\n",
       "      <td>0.365</td>\n",
       "      <td>-0.501</td>\n",
       "      <td>295.97794</td>\n",
       "      <td>50.771481</td>\n",
       "      <td>10.505</td>\n",
       "      <td>0</td>\n",
       "    </tr>\n",
       "    <tr>\n",
       "      <th>10</th>\n",
       "      <td>9592621</td>\n",
       "      <td>0</td>\n",
       "      <td>0</td>\n",
       "      <td>0</td>\n",
       "      <td>0</td>\n",
       "      <td>191.037280</td>\n",
       "      <td>0.013200</td>\n",
       "      <td>-0.013200</td>\n",
       "      <td>153.91070</td>\n",
       "      <td>0.06480</td>\n",
       "      <td>...</td>\n",
       "      <td>4.497</td>\n",
       "      <td>0.055</td>\n",
       "      <td>-0.165</td>\n",
       "      <td>0.901</td>\n",
       "      <td>0.213</td>\n",
       "      <td>-0.091</td>\n",
       "      <td>293.68390</td>\n",
       "      <td>46.265541</td>\n",
       "      <td>16.652</td>\n",
       "      <td>0</td>\n",
       "    </tr>\n",
       "    <tr>\n",
       "      <th>16</th>\n",
       "      <td>9159288</td>\n",
       "      <td>0</td>\n",
       "      <td>0</td>\n",
       "      <td>0</td>\n",
       "      <td>0</td>\n",
       "      <td>66.673050</td>\n",
       "      <td>0.012400</td>\n",
       "      <td>-0.012400</td>\n",
       "      <td>161.59000</td>\n",
       "      <td>0.17600</td>\n",
       "      <td>...</td>\n",
       "      <td>4.369</td>\n",
       "      <td>0.072</td>\n",
       "      <td>-0.217</td>\n",
       "      <td>1.190</td>\n",
       "      <td>0.404</td>\n",
       "      <td>-0.135</td>\n",
       "      <td>293.68979</td>\n",
       "      <td>45.549332</td>\n",
       "      <td>14.634</td>\n",
       "      <td>0</td>\n",
       "    </tr>\n",
       "    <tr>\n",
       "      <th>17</th>\n",
       "      <td>9011955</td>\n",
       "      <td>0</td>\n",
       "      <td>0</td>\n",
       "      <td>0</td>\n",
       "      <td>0</td>\n",
       "      <td>367.089600</td>\n",
       "      <td>0.022800</td>\n",
       "      <td>-0.022800</td>\n",
       "      <td>178.67440</td>\n",
       "      <td>0.04220</td>\n",
       "      <td>...</td>\n",
       "      <td>4.429</td>\n",
       "      <td>0.058</td>\n",
       "      <td>-0.232</td>\n",
       "      <td>1.100</td>\n",
       "      <td>0.384</td>\n",
       "      <td>-0.128</td>\n",
       "      <td>287.86737</td>\n",
       "      <td>45.321289</td>\n",
       "      <td>15.267</td>\n",
       "      <td>0</td>\n",
       "    </tr>\n",
       "    <tr>\n",
       "      <th>19</th>\n",
       "      <td>8673511</td>\n",
       "      <td>0</td>\n",
       "      <td>0</td>\n",
       "      <td>0</td>\n",
       "      <td>0</td>\n",
       "      <td>0.757261</td>\n",
       "      <td>0.000004</td>\n",
       "      <td>-0.000004</td>\n",
       "      <td>131.62154</td>\n",
       "      <td>0.00472</td>\n",
       "      <td>...</td>\n",
       "      <td>4.479</td>\n",
       "      <td>0.062</td>\n",
       "      <td>-0.200</td>\n",
       "      <td>0.953</td>\n",
       "      <td>0.279</td>\n",
       "      <td>-0.093</td>\n",
       "      <td>284.29565</td>\n",
       "      <td>44.895859</td>\n",
       "      <td>14.024</td>\n",
       "      <td>0</td>\n",
       "    </tr>\n",
       "    <tr>\n",
       "      <th>20</th>\n",
       "      <td>8637903</td>\n",
       "      <td>0</td>\n",
       "      <td>0</td>\n",
       "      <td>0</td>\n",
       "      <td>0</td>\n",
       "      <td>385.858683</td>\n",
       "      <td>0.005260</td>\n",
       "      <td>-0.005260</td>\n",
       "      <td>343.64827</td>\n",
       "      <td>0.00907</td>\n",
       "      <td>...</td>\n",
       "      <td>4.367</td>\n",
       "      <td>0.065</td>\n",
       "      <td>-0.195</td>\n",
       "      <td>1.195</td>\n",
       "      <td>0.372</td>\n",
       "      <td>-0.149</td>\n",
       "      <td>296.40787</td>\n",
       "      <td>44.773640</td>\n",
       "      <td>13.993</td>\n",
       "      <td>1</td>\n",
       "    </tr>\n",
       "  </tbody>\n",
       "</table>\n",
       "<p>6 rows × 42 columns</p>\n",
       "</div>"
      ],
      "text/plain": [
       "       kepid  koi_fpflag_nt  koi_fpflag_ss  koi_fpflag_co  koi_fpflag_ec  \\\n",
       "0   12168280              0              0              0              0   \n",
       "10   9592621              0              0              0              0   \n",
       "16   9159288              0              0              0              0   \n",
       "17   9011955              0              0              0              0   \n",
       "19   8673511              0              0              0              0   \n",
       "20   8637903              0              0              0              0   \n",
       "\n",
       "    koi_period  koi_period_err1  koi_period_err2  koi_time0bk  \\\n",
       "0   229.957537         0.006730        -0.006730    326.01840   \n",
       "10  191.037280         0.013200        -0.013200    153.91070   \n",
       "16   66.673050         0.012400        -0.012400    161.59000   \n",
       "17  367.089600         0.022800        -0.022800    178.67440   \n",
       "19    0.757261         0.000004        -0.000004    131.62154   \n",
       "20  385.858683         0.005260        -0.005260    343.64827   \n",
       "\n",
       "    koi_time0bk_err1  ...  koi_slogg  koi_slogg_err1  koi_slogg_err2  \\\n",
       "0            0.01510  ...      3.978           0.195          -0.120   \n",
       "10           0.06480  ...      4.497           0.055          -0.165   \n",
       "16           0.17600  ...      4.369           0.072          -0.217   \n",
       "17           0.04220  ...      4.429           0.058          -0.232   \n",
       "19           0.00472  ...      4.479           0.062          -0.200   \n",
       "20           0.00907  ...      4.367           0.065          -0.195   \n",
       "\n",
       "    koi_srad  koi_srad_err1  koi_srad_err2         ra        dec  koi_kepmag  \\\n",
       "0      2.057          0.365         -0.501  295.97794  50.771481      10.505   \n",
       "10     0.901          0.213         -0.091  293.68390  46.265541      16.652   \n",
       "16     1.190          0.404         -0.135  293.68979  45.549332      14.634   \n",
       "17     1.100          0.384         -0.128  287.86737  45.321289      15.267   \n",
       "19     0.953          0.279         -0.093  284.29565  44.895859      14.024   \n",
       "20     1.195          0.372         -0.149  296.40787  44.773640      13.993   \n",
       "\n",
       "    exoplanet  \n",
       "0           0  \n",
       "10          0  \n",
       "16          0  \n",
       "17          0  \n",
       "19          0  \n",
       "20          1  \n",
       "\n",
       "[6 rows x 42 columns]"
      ]
     },
     "execution_count": 48,
     "metadata": {},
     "output_type": "execute_result"
    }
   ],
   "source": [
    "koi_unknowns.head(6)"
   ]
  },
  {
   "cell_type": "code",
   "execution_count": 49,
   "metadata": {},
   "outputs": [
    {
     "data": {
      "text/plain": [
       "1    1390\n",
       "0     855\n",
       "Name: exoplanet, dtype: int64"
      ]
     },
     "execution_count": 49,
     "metadata": {},
     "output_type": "execute_result"
    }
   ],
   "source": [
    "koi_unknowns.exoplanet.value_counts()"
   ]
  },
  {
   "cell_type": "code",
   "execution_count": 50,
   "metadata": {},
   "outputs": [
    {
     "data": {
      "text/plain": [
       "0    4214\n",
       "1    2285\n",
       "2    2245\n",
       "Name: koi_disposition, dtype: int64"
      ]
     },
     "execution_count": 50,
     "metadata": {},
     "output_type": "execute_result"
    }
   ],
   "source": [
    "dirty.koi_disposition.value_counts()"
   ]
  },
  {
   "cell_type": "markdown",
   "metadata": {},
   "source": [
    "## 4. Feed-Forward Neural Network Baseline"
   ]
  },
  {
   "cell_type": "markdown",
   "metadata": {},
   "source": [
    "Finally to conclude our quick and dirty model building exercise, let's put together a couple of neural networks:\n",
    "1. A Feed-Forward Neural Network\n",
    "2. A Feed-Forward Neural Network employing Dropout\n",
    "3. A Convolutional Neural Network\n",
    "4. A Convolutional Neural Network employing Dropout"
   ]
  },
  {
   "cell_type": "code",
   "execution_count": 51,
   "metadata": {},
   "outputs": [],
   "source": [
    "# from sklearn.datasets import make_regression\n",
    "# from sklearn.preprocessing import StandardScaler\n",
    "# from sklearn.model_selection import train_test_split, GridSearchCV\n",
    "# from sklearn import metrics\n",
    "\n",
    "# from tensorflow.keras.models import Sequential\n",
    "# from tensorflow.keras.layers import Dense, Dropout, Flatten, Conv2D, MaxPooling2D\n",
    "# from tensorflow.keras import utils\n",
    "# from tensorflow.keras.wrappers.scikit_learn import KerasRegressor\n",
    "# from tensorflow.keras.optimizers import Adam\n",
    "# from tensorflow.keras.callbacks import EarlyStopping"
   ]
  },
  {
   "cell_type": "code",
   "execution_count": 52,
   "metadata": {},
   "outputs": [],
   "source": [
    "# # Visualize the loss or accuracy - function based on Noelle Brown function\n",
    "# def viz_model(history_name, metric):\n",
    "#     train_metric = history_name.history[metric]\n",
    "#     val_metric = history_name.history['val_' + metric]\n",
    "\n",
    "#     plt.figure(figsize=(12, 8))\n",
    "#     plt.plot(train_metric, label='Training Set ' + metric, color='navy')\n",
    "#     plt.plot(val_metric, label='Validation Set ' + metric, color='fuchsia')\n",
    "#     plt.legend();\n",
    "#     plt.title(f'{metric} rate per epoch of the Training and Validation Sets', fontsize=18);"
   ]
  },
  {
   "cell_type": "code",
   "execution_count": 53,
   "metadata": {},
   "outputs": [
    {
     "data": {
      "text/plain": [
       "(5199, 41)"
      ]
     },
     "execution_count": 53,
     "metadata": {},
     "output_type": "execute_result"
    }
   ],
   "source": [
    "X_train.shape"
   ]
  },
  {
   "cell_type": "code",
   "execution_count": 54,
   "metadata": {},
   "outputs": [
    {
     "data": {
      "text/html": [
       "<div>\n",
       "<style scoped>\n",
       "    .dataframe tbody tr th:only-of-type {\n",
       "        vertical-align: middle;\n",
       "    }\n",
       "\n",
       "    .dataframe tbody tr th {\n",
       "        vertical-align: top;\n",
       "    }\n",
       "\n",
       "    .dataframe thead th {\n",
       "        text-align: right;\n",
       "    }\n",
       "</style>\n",
       "<table border=\"1\" class=\"dataframe\">\n",
       "  <thead>\n",
       "    <tr style=\"text-align: right;\">\n",
       "      <th></th>\n",
       "      <th>kepid</th>\n",
       "      <th>koi_fpflag_nt</th>\n",
       "      <th>koi_fpflag_ss</th>\n",
       "      <th>koi_fpflag_co</th>\n",
       "      <th>koi_fpflag_ec</th>\n",
       "      <th>koi_period</th>\n",
       "      <th>koi_period_err1</th>\n",
       "      <th>koi_period_err2</th>\n",
       "      <th>koi_time0bk</th>\n",
       "      <th>koi_time0bk_err1</th>\n",
       "      <th>...</th>\n",
       "      <th>koi_steff_err2</th>\n",
       "      <th>koi_slogg</th>\n",
       "      <th>koi_slogg_err1</th>\n",
       "      <th>koi_slogg_err2</th>\n",
       "      <th>koi_srad</th>\n",
       "      <th>koi_srad_err1</th>\n",
       "      <th>koi_srad_err2</th>\n",
       "      <th>ra</th>\n",
       "      <th>dec</th>\n",
       "      <th>koi_kepmag</th>\n",
       "    </tr>\n",
       "  </thead>\n",
       "  <tbody>\n",
       "    <tr>\n",
       "      <th>2148</th>\n",
       "      <td>5795648</td>\n",
       "      <td>0</td>\n",
       "      <td>1</td>\n",
       "      <td>0</td>\n",
       "      <td>0</td>\n",
       "      <td>4.553370</td>\n",
       "      <td>7.690000e-07</td>\n",
       "      <td>-7.690000e-07</td>\n",
       "      <td>135.433898</td>\n",
       "      <td>0.000140</td>\n",
       "      <td>...</td>\n",
       "      <td>-189.0</td>\n",
       "      <td>4.346</td>\n",
       "      <td>0.113</td>\n",
       "      <td>-0.137</td>\n",
       "      <td>1.109</td>\n",
       "      <td>0.244</td>\n",
       "      <td>-0.162</td>\n",
       "      <td>293.29440</td>\n",
       "      <td>41.035351</td>\n",
       "      <td>11.471</td>\n",
       "    </tr>\n",
       "    <tr>\n",
       "      <th>4406</th>\n",
       "      <td>3240159</td>\n",
       "      <td>0</td>\n",
       "      <td>1</td>\n",
       "      <td>0</td>\n",
       "      <td>0</td>\n",
       "      <td>82.137610</td>\n",
       "      <td>3.000000e-06</td>\n",
       "      <td>-3.000000e-06</td>\n",
       "      <td>196.122513</td>\n",
       "      <td>0.000029</td>\n",
       "      <td>...</td>\n",
       "      <td>-162.0</td>\n",
       "      <td>3.904</td>\n",
       "      <td>0.307</td>\n",
       "      <td>-0.102</td>\n",
       "      <td>2.012</td>\n",
       "      <td>0.439</td>\n",
       "      <td>-0.713</td>\n",
       "      <td>292.71317</td>\n",
       "      <td>38.369659</td>\n",
       "      <td>12.261</td>\n",
       "    </tr>\n",
       "    <tr>\n",
       "      <th>1514</th>\n",
       "      <td>6185717</td>\n",
       "      <td>0</td>\n",
       "      <td>1</td>\n",
       "      <td>0</td>\n",
       "      <td>0</td>\n",
       "      <td>11.702204</td>\n",
       "      <td>4.220000e-07</td>\n",
       "      <td>-4.220000e-07</td>\n",
       "      <td>139.431265</td>\n",
       "      <td>0.000030</td>\n",
       "      <td>...</td>\n",
       "      <td>-149.0</td>\n",
       "      <td>3.793</td>\n",
       "      <td>0.308</td>\n",
       "      <td>-0.132</td>\n",
       "      <td>2.133</td>\n",
       "      <td>0.429</td>\n",
       "      <td>-0.735</td>\n",
       "      <td>284.46127</td>\n",
       "      <td>41.561790</td>\n",
       "      <td>13.393</td>\n",
       "    </tr>\n",
       "    <tr>\n",
       "      <th>8582</th>\n",
       "      <td>10925104</td>\n",
       "      <td>0</td>\n",
       "      <td>0</td>\n",
       "      <td>0</td>\n",
       "      <td>0</td>\n",
       "      <td>11.776132</td>\n",
       "      <td>6.960000e-06</td>\n",
       "      <td>-6.960000e-06</td>\n",
       "      <td>142.705753</td>\n",
       "      <td>0.000498</td>\n",
       "      <td>...</td>\n",
       "      <td>-79.0</td>\n",
       "      <td>4.722</td>\n",
       "      <td>0.030</td>\n",
       "      <td>-0.033</td>\n",
       "      <td>0.540</td>\n",
       "      <td>0.033</td>\n",
       "      <td>-0.033</td>\n",
       "      <td>294.12143</td>\n",
       "      <td>48.349522</td>\n",
       "      <td>13.738</td>\n",
       "    </tr>\n",
       "    <tr>\n",
       "      <th>6106</th>\n",
       "      <td>7102316</td>\n",
       "      <td>0</td>\n",
       "      <td>0</td>\n",
       "      <td>0</td>\n",
       "      <td>0</td>\n",
       "      <td>57.248852</td>\n",
       "      <td>3.240000e-04</td>\n",
       "      <td>-3.240000e-04</td>\n",
       "      <td>184.686400</td>\n",
       "      <td>0.004310</td>\n",
       "      <td>...</td>\n",
       "      <td>-169.0</td>\n",
       "      <td>4.542</td>\n",
       "      <td>0.044</td>\n",
       "      <td>-0.176</td>\n",
       "      <td>0.846</td>\n",
       "      <td>0.233</td>\n",
       "      <td>-0.078</td>\n",
       "      <td>286.45270</td>\n",
       "      <td>42.657879</td>\n",
       "      <td>15.990</td>\n",
       "    </tr>\n",
       "  </tbody>\n",
       "</table>\n",
       "<p>5 rows × 41 columns</p>\n",
       "</div>"
      ],
      "text/plain": [
       "         kepid  koi_fpflag_nt  koi_fpflag_ss  koi_fpflag_co  koi_fpflag_ec  \\\n",
       "2148   5795648              0              1              0              0   \n",
       "4406   3240159              0              1              0              0   \n",
       "1514   6185717              0              1              0              0   \n",
       "8582  10925104              0              0              0              0   \n",
       "6106   7102316              0              0              0              0   \n",
       "\n",
       "      koi_period  koi_period_err1  koi_period_err2  koi_time0bk  \\\n",
       "2148    4.553370     7.690000e-07    -7.690000e-07   135.433898   \n",
       "4406   82.137610     3.000000e-06    -3.000000e-06   196.122513   \n",
       "1514   11.702204     4.220000e-07    -4.220000e-07   139.431265   \n",
       "8582   11.776132     6.960000e-06    -6.960000e-06   142.705753   \n",
       "6106   57.248852     3.240000e-04    -3.240000e-04   184.686400   \n",
       "\n",
       "      koi_time0bk_err1  ...  koi_steff_err2  koi_slogg  koi_slogg_err1  \\\n",
       "2148          0.000140  ...          -189.0      4.346           0.113   \n",
       "4406          0.000029  ...          -162.0      3.904           0.307   \n",
       "1514          0.000030  ...          -149.0      3.793           0.308   \n",
       "8582          0.000498  ...           -79.0      4.722           0.030   \n",
       "6106          0.004310  ...          -169.0      4.542           0.044   \n",
       "\n",
       "      koi_slogg_err2  koi_srad  koi_srad_err1  koi_srad_err2         ra  \\\n",
       "2148          -0.137     1.109          0.244         -0.162  293.29440   \n",
       "4406          -0.102     2.012          0.439         -0.713  292.71317   \n",
       "1514          -0.132     2.133          0.429         -0.735  284.46127   \n",
       "8582          -0.033     0.540          0.033         -0.033  294.12143   \n",
       "6106          -0.176     0.846          0.233         -0.078  286.45270   \n",
       "\n",
       "            dec  koi_kepmag  \n",
       "2148  41.035351      11.471  \n",
       "4406  38.369659      12.261  \n",
       "1514  41.561790      13.393  \n",
       "8582  48.349522      13.738  \n",
       "6106  42.657879      15.990  \n",
       "\n",
       "[5 rows x 41 columns]"
      ]
     },
     "execution_count": 54,
     "metadata": {},
     "output_type": "execute_result"
    }
   ],
   "source": [
    "X_val.head()"
   ]
  },
  {
   "cell_type": "code",
   "execution_count": 55,
   "metadata": {},
   "outputs": [],
   "source": [
    "# # This code mostly provided by Noelle Brown, Riley Dallas, and Dan Wilhelm, \n",
    "# # General Assembly DSI\n",
    "\n",
    "# eps = 10  # Use this variable to set the number of epochs for the below models\n",
    "\n",
    "\n",
    "# model_fnn = Sequential()\n",
    "\n",
    "# model_fnn.add(Dense(64, input_dim=X_train.shape[1], activation='relu'))\n",
    "# model_fnn.add(Dense(128, activation='relu'))\n",
    "# # ADD DROPOUT TO Above (previous) LAYER>>>\n",
    "# model_fnn.add(Dropout(0.2)) #refers to previous layer\n",
    "\n",
    "# model_fnn.add(Dense(32, activation='relu'))\n",
    "# # ADD DROPOUT TO Above (previous) LAYER>>>\n",
    "# model_fnn.add(Dropout(0.2)) #refers to previous layer\n",
    "\n",
    "# model_fnn.add(Dense(8, activation='relu'))\n",
    "\n",
    "# model_fnn.add(Dense(1, activation='sigmoid'))\n",
    "\n",
    "# model_fnn.compile(loss='bce', optimizer=Adam(lr=.000005), metrics=['acc'])\n",
    "# early_stop = EarlyStopping(patience=10)\n",
    "\n",
    "\n",
    "# # Fit the model\n",
    "# history_dropout_2 = model_fnn.fit(X_train, y_train,\n",
    "#                    validation_data = (X_val, y_val),\n",
    "#                    epochs = eps)\n",
    "\n"
   ]
  },
  {
   "cell_type": "code",
   "execution_count": 56,
   "metadata": {},
   "outputs": [],
   "source": [
    "# viz_model(history_fnn, 'loss')"
   ]
  },
  {
   "cell_type": "code",
   "execution_count": 57,
   "metadata": {},
   "outputs": [],
   "source": [
    "# viz_model(history_fnn, 'acc')"
   ]
  },
  {
   "cell_type": "markdown",
   "metadata": {},
   "source": [
    "The model was returning our baseline score, but now it seems to be showing the inverse of the baseline\n",
    "\n",
    "--We see that the accuracy score of our Neural Network is nearly exactly that of our Baseline."
   ]
  },
  {
   "cell_type": "markdown",
   "metadata": {},
   "source": [
    "## 5. Convolutional Neural Network"
   ]
  },
  {
   "cell_type": "code",
   "execution_count": 59,
   "metadata": {},
   "outputs": [],
   "source": [
    "# input_reshape = (-1, 41, 1, 1)"
   ]
  },
  {
   "cell_type": "code",
   "execution_count": 60,
   "metadata": {},
   "outputs": [],
   "source": [
    "# X_train_resh = X_train.values.reshape(input_reshape)"
   ]
  },
  {
   "cell_type": "code",
   "execution_count": 61,
   "metadata": {},
   "outputs": [],
   "source": [
    "# X_val_resh = X_val.values.reshape(input_reshape)"
   ]
  },
  {
   "cell_type": "code",
   "execution_count": 62,
   "metadata": {},
   "outputs": [],
   "source": [
    "# X_train_resh[0].shape"
   ]
  },
  {
   "cell_type": "code",
   "execution_count": 63,
   "metadata": {},
   "outputs": [],
   "source": [
    "# model_cnn = Sequential()\n",
    "\n",
    "# model_cnn.add(Conv2D(filters=5,                # number of filters\n",
    "#                      kernel_size=(2, 2),        # height/width of filter, copied from Dan's lecture\n",
    "#                      activation='relu',      # activation function \n",
    "#                      input_shape=(41,1, 1))) # shape of input (image)\n",
    "\n",
    "# model_cnn.add(MaxPooling2D(pool_size=(2, 2))) # dimensions of region of pooling\n",
    "\n",
    "# model_cnn.add(Conv2D(16,\n",
    "#                      kernel_size = (2, 2),\n",
    "#                      activation='relu'))\n",
    "\n",
    "# model_cnn.add(MaxPooling2D(pool_size=(2, 2)))\n",
    "\n",
    "# #model_cnn.add(Flatten()) # is this necessary when I'm not dealing with image data?\n",
    "\n",
    "# # Add a densely-connected layer with 128 neurons.\n",
    "# model_cnn.add(Dense(128, activation='relu'))\n",
    "\n",
    "# # Add a final layer with 10 neurons.\n",
    "# model_cnn.add(Dense(10, activation='softmax'))\n",
    "\n",
    "# # Compile model\n",
    "# model_cnn.compile(loss='categorical_crossentropy',\n",
    "#                   optimizer='adam',\n",
    "#                   metrics=['acc'])\n",
    "\n",
    "# # Fit model on training data\n",
    "# history_cnn = model_cnn.fit(X_train_resh,\n",
    "#                         y_train,\n",
    "#                         batch_size=256,\n",
    "#                         validation_data=(X_val_resh, y_val),\n",
    "#                         epochs=10, \n",
    "#                         verbose=1)"
   ]
  },
  {
   "cell_type": "code",
   "execution_count": null,
   "metadata": {},
   "outputs": [],
   "source": []
  }
 ],
 "metadata": {
  "kernelspec": {
   "display_name": "Python 3",
   "language": "python",
   "name": "python3"
  },
  "language_info": {
   "codemirror_mode": {
    "name": "ipython",
    "version": 3
   },
   "file_extension": ".py",
   "mimetype": "text/x-python",
   "name": "python",
   "nbconvert_exporter": "python",
   "pygments_lexer": "ipython3",
   "version": "3.7.6"
  }
 },
 "nbformat": 4,
 "nbformat_minor": 4
}
